{
 "cells": [
  {
   "cell_type": "code",
   "execution_count": 1,
   "metadata": {},
   "outputs": [
    {
     "data": {
      "text/html": [
       "\n",
       "            <div>\n",
       "                <p><b>SparkSession - hive</b></p>\n",
       "                \n",
       "        <div>\n",
       "            <p><b>SparkContext</b></p>\n",
       "\n",
       "            <p><a href=\"http://DESKTOP-NUCIOEE:4040\">Spark UI</a></p>\n",
       "\n",
       "            <dl>\n",
       "              <dt>Version</dt>\n",
       "                <dd><code>v3.0.3</code></dd>\n",
       "              <dt>Master</dt>\n",
       "                <dd><code>local[*]</code></dd>\n",
       "              <dt>AppName</dt>\n",
       "                <dd><code>PySparkShell</code></dd>\n",
       "            </dl>\n",
       "        </div>\n",
       "        \n",
       "            </div>\n",
       "        "
      ],
      "text/plain": [
       "<pyspark.sql.session.SparkSession at 0x2453fcd8f88>"
      ]
     },
     "execution_count": 1,
     "metadata": {},
     "output_type": "execute_result"
    }
   ],
   "source": [
    "spark"
   ]
  },
  {
   "cell_type": "code",
   "execution_count": 2,
   "metadata": {},
   "outputs": [],
   "source": [
    "# importing module\n",
    "import pyspark\n",
    "from pyspark.sql import SparkSession\n",
    "from pyspark.context import SparkContext"
   ]
  },
  {
   "cell_type": "code",
   "execution_count": 3,
   "metadata": {},
   "outputs": [],
   "source": [
    "# creating sparksession and giving an app name\n",
    "spark = SparkSession.builder.appName('sparkdf').getOrCreate()"
   ]
  },
  {
   "cell_type": "code",
   "execution_count": 11,
   "metadata": {},
   "outputs": [],
   "source": [
    "# create DataFrame\n",
    "df=spark.read.option(\n",
    "  \"header\",True).option('inferSchema',True).csv(\"Cricket_data.csv\")"
   ]
  },
  {
   "cell_type": "code",
   "execution_count": 13,
   "metadata": {},
   "outputs": [
    {
     "name": "stdout",
     "output_type": "stream",
     "text": [
      "root\n",
      " |-- Team: string (nullable = true)\n",
      " |-- Player_ID: integer (nullable = true)\n",
      " |-- Player: string (nullable = true)\n",
      " |-- Matches: integer (nullable = true)\n",
      " |-- Runs: integer (nullable = true)\n",
      " |-- Wickets: integer (nullable = true)\n",
      " |-- Hundreds: integer (nullable = true)\n",
      " |-- Fifties: integer (nullable = true)\n",
      " |-- Speciality: string (nullable = true)\n",
      "\n"
     ]
    }
   ],
   "source": [
    "# Display schema\n",
    "df.printSchema() "
   ]
  },
  {
   "cell_type": "code",
   "execution_count": 14,
   "metadata": {},
   "outputs": [],
   "source": [
    "df.write.option(\"header\", True) \\\n",
    "        .partitionBy(\"Team\") \\\n",
    "        .mode(\"overwrite\") \\\n",
    "        .csv(\"Team\")"
   ]
  },
  {
   "cell_type": "code",
   "execution_count": 15,
   "metadata": {},
   "outputs": [],
   "source": [
    "# From above DataFrame, we will be using \n",
    "# Team and Speciality as a partition key \n",
    "# for our examples below.\n",
    "# partitionBy()\n",
    "df.write.option(\"header\", True) \\\n",
    "        .partitionBy(\"Team\", \"Speciality\") \\\n",
    "        .mode(\"overwrite\") \\\n",
    "        .csv(\"Team-Speciality\")"
   ]
  },
  {
   "cell_type": "code",
   "execution_count": 20,
   "metadata": {},
   "outputs": [],
   "source": [
    "#Use repartition() and partitionBy() together\n",
    "df.repartition(2).write.option(\"header\",True) \\\n",
    "        .partitionBy(\"Team\") \\\n",
    "        .mode(\"overwrite\") \\\n",
    "        .csv(\"team-more\")"
   ]
  },
  {
   "cell_type": "code",
   "execution_count": 22,
   "metadata": {},
   "outputs": [],
   "source": [
    "# partitionBy() control number of partitions\n",
    "df.write.option(\"header\",True) \\\n",
    "        .option(\"maxRecordsPerFile\", 2) \\\n",
    "        .partitionBy(\"Team\",'Speciality') \\\n",
    "        .mode(\"overwrite\") \\\n",
    "        .csv(\"Team\")"
   ]
  },
  {
   "cell_type": "code",
   "execution_count": 21,
   "metadata": {},
   "outputs": [
    {
     "name": "stdout",
     "output_type": "stream",
     "text": [
      "root\n",
      " |-- Player_ID: string (nullable = true)\n",
      " |-- Player: string (nullable = true)\n",
      " |-- Matches: string (nullable = true)\n",
      " |-- Runs: string (nullable = true)\n",
      " |-- Wickets: string (nullable = true)\n",
      " |-- Hundreds: string (nullable = true)\n",
      " |-- Fifties: string (nullable = true)\n",
      " |-- Speciality: string (nullable = true)\n",
      "\n",
      "+---------+--------------+-------+----+-------+--------+-------+----------+\n",
      "|Player_ID|        Player|Matches|Runs|Wickets|Hundreds|Fifties|Speciality|\n",
      "+---------+--------------+-------+----+-------+--------+-------+----------+\n",
      "|    49991|Ricky Pointing|    293|7758|     36|      32|     28|       Bat|\n",
      "|   548172|  Mathew Hyden|    327|1427|     28|      37|     78|       Bat|\n",
      "|   519952| Glenn McGrath|    254| 867|    327|       0|      0|       Bow|\n",
      "|    16116|     Brett Lee|    416|1329|    266|       0|      0|       Bow|\n",
      "+---------+--------------+-------+----+-------+--------+-------+----------+\n",
      "\n"
     ]
    }
   ],
   "source": [
    "dfSinglePart=spark.read.option(\"header\",True) \\\n",
    "            .csv(\"Team/Team=Aus\")\n",
    "dfSinglePart.printSchema()\n",
    "dfSinglePart.show()"
   ]
  },
  {
   "cell_type": "code",
   "execution_count": 24,
   "metadata": {},
   "outputs": [
    {
     "name": "stdout",
     "output_type": "stream",
     "text": [
      "root\n",
      " |-- Player_ID: string (nullable = true)\n",
      " |-- Player: string (nullable = true)\n",
      " |-- Matches: string (nullable = true)\n",
      " |-- Runs: string (nullable = true)\n",
      " |-- Wickets: string (nullable = true)\n",
      " |-- Hundreds: string (nullable = true)\n",
      " |-- Fifties: string (nullable = true)\n",
      "\n",
      "+---------+--------------+-------+----+-------+--------+-------+\n",
      "|Player_ID|        Player|Matches|Runs|Wickets|Hundreds|Fifties|\n",
      "+---------+--------------+-------+----+-------+--------+-------+\n",
      "|    49991|Ricky Pointing|    293|7758|     36|      32|     28|\n",
      "|   548172|  Mathew Hyden|    327|1427|     28|      37|     78|\n",
      "+---------+--------------+-------+----+-------+--------+-------+\n",
      "\n"
     ]
    }
   ],
   "source": [
    "dfSinglePart=spark.read.option(\"header\",True) \\\n",
    "            .csv(\"Team/Team=Aus/Speciality=Bat\")\n",
    "dfSinglePart.printSchema()\n",
    "dfSinglePart.show()"
   ]
  },
  {
   "cell_type": "code",
   "execution_count": 25,
   "metadata": {},
   "outputs": [],
   "source": [
    "#Missing Values\n",
    "from pyspark.sql import SparkSession"
   ]
  },
  {
   "cell_type": "code",
   "execution_count": 26,
   "metadata": {},
   "outputs": [],
   "source": [
    "spark = SparkSession.builder.appName('Practice').getOrCreate()"
   ]
  },
  {
   "cell_type": "code",
   "execution_count": 27,
   "metadata": {},
   "outputs": [],
   "source": [
    "df=spark.read.option('header','True').csv('test2.csv',inferSchema=True)"
   ]
  },
  {
   "cell_type": "code",
   "execution_count": 28,
   "metadata": {},
   "outputs": [
    {
     "name": "stdout",
     "output_type": "stream",
     "text": [
      "root\n",
      " |-- Name: string (nullable = true)\n",
      " |-- age: integer (nullable = true)\n",
      " |-- Experience: string (nullable = true)\n",
      " |-- Salary: string (nullable = true)\n",
      "\n"
     ]
    }
   ],
   "source": [
    "df.printSchema()"
   ]
  },
  {
   "cell_type": "code",
   "execution_count": 54,
   "metadata": {},
   "outputs": [],
   "source": [
    "from pyspark.sql.functions import col\n",
    "from pyspark.sql.types import IntegerType\n",
    "df=df.withColumn(\"Salary\",col(\"Salary\").cast(IntegerType()))"
   ]
  },
  {
   "cell_type": "code",
   "execution_count": 55,
   "metadata": {},
   "outputs": [
    {
     "name": "stdout",
     "output_type": "stream",
     "text": [
      "root\n",
      " |-- Name: string (nullable = true)\n",
      " |-- age: integer (nullable = true)\n",
      " |-- Experience: string (nullable = true)\n",
      " |-- Salary: integer (nullable = true)\n",
      "\n"
     ]
    }
   ],
   "source": [
    "df.printSchema()"
   ]
  },
  {
   "cell_type": "code",
   "execution_count": 29,
   "metadata": {},
   "outputs": [
    {
     "name": "stdout",
     "output_type": "stream",
     "text": [
      "+------+----+----------+------+\n",
      "|  Name| age|Experience|Salary|\n",
      "+------+----+----------+------+\n",
      "| Krish|  31|        10| 30000|\n",
      "|  John|  30|         8| 25000|\n",
      "| Surya|  29|         4| 20000|\n",
      "|  Paul|  24|         3| 20000|\n",
      "|Harsha|  21|         1| 15000|\n",
      "| Subha|  23|         2| 18000|\n",
      "|Mahesh|null|      null| 40000|\n",
      "|  null|  34|        10| 38000|\n",
      "|  null|  36|      null|  null|\n",
      "+------+----+----------+------+\n",
      "\n"
     ]
    }
   ],
   "source": [
    "df.show()"
   ]
  },
  {
   "cell_type": "code",
   "execution_count": 30,
   "metadata": {},
   "outputs": [
    {
     "data": {
      "text/plain": [
       "['Name', 'age', 'Experience', 'Salary']"
      ]
     },
     "execution_count": 30,
     "metadata": {},
     "output_type": "execute_result"
    }
   ],
   "source": [
    "df.columns"
   ]
  },
  {
   "cell_type": "code",
   "execution_count": 31,
   "metadata": {},
   "outputs": [
    {
     "name": "stdout",
     "output_type": "stream",
     "text": [
      "+------+----------+------+\n",
      "|  Name|Experience|Salary|\n",
      "+------+----------+------+\n",
      "| Krish|        10| 30000|\n",
      "|  John|         8| 25000|\n",
      "| Surya|         4| 20000|\n",
      "|  Paul|         3| 20000|\n",
      "|Harsha|         1| 15000|\n",
      "| Subha|         2| 18000|\n",
      "|Mahesh|      null| 40000|\n",
      "|  null|        10| 38000|\n",
      "|  null|      null|  null|\n",
      "+------+----------+------+\n",
      "\n"
     ]
    }
   ],
   "source": [
    "# Drop Columns\n",
    "df.drop('age').show()"
   ]
  },
  {
   "cell_type": "code",
   "execution_count": 32,
   "metadata": {},
   "outputs": [
    {
     "name": "stdout",
     "output_type": "stream",
     "text": [
      "+------+---+----------+------+\n",
      "|  Name|age|Experience|Salary|\n",
      "+------+---+----------+------+\n",
      "| Krish| 31|        10| 30000|\n",
      "|  John| 30|         8| 25000|\n",
      "| Surya| 29|         4| 20000|\n",
      "|  Paul| 24|         3| 20000|\n",
      "|Harsha| 21|         1| 15000|\n",
      "| Subha| 23|         2| 18000|\n",
      "+------+---+----------+------+\n",
      "\n"
     ]
    }
   ],
   "source": [
    "#Drop null values\n",
    "df.na.drop().show()                      #Drops null rows"
   ]
  },
  {
   "cell_type": "code",
   "execution_count": 33,
   "metadata": {},
   "outputs": [
    {
     "name": "stdout",
     "output_type": "stream",
     "text": [
      "+------+----+----------+------+\n",
      "|  Name| age|Experience|Salary|\n",
      "+------+----+----------+------+\n",
      "| Krish|  31|        10| 30000|\n",
      "|  John|  30|         8| 25000|\n",
      "| Surya|  29|         4| 20000|\n",
      "|  Paul|  24|         3| 20000|\n",
      "|Harsha|  21|         1| 15000|\n",
      "| Subha|  23|         2| 18000|\n",
      "|Mahesh|null|      null| 40000|\n",
      "|  null|  34|        10| 38000|\n",
      "|  null|  36|      null|  null|\n",
      "+------+----+----------+------+\n",
      "\n"
     ]
    }
   ],
   "source": [
    "df.na.drop(how='all').show()              # will drop row which will have all column values as null"
   ]
  },
  {
   "cell_type": "code",
   "execution_count": 34,
   "metadata": {},
   "outputs": [
    {
     "name": "stdout",
     "output_type": "stream",
     "text": [
      "+------+---+----------+------+\n",
      "|  Name|age|Experience|Salary|\n",
      "+------+---+----------+------+\n",
      "| Krish| 31|        10| 30000|\n",
      "|  John| 30|         8| 25000|\n",
      "| Surya| 29|         4| 20000|\n",
      "|  Paul| 24|         3| 20000|\n",
      "|Harsha| 21|         1| 15000|\n",
      "| Subha| 23|         2| 18000|\n",
      "+------+---+----------+------+\n",
      "\n"
     ]
    }
   ],
   "source": [
    "df.na.drop(how='any').show()         # drop any row which will consist atleast one null value "
   ]
  },
  {
   "cell_type": "code",
   "execution_count": 35,
   "metadata": {},
   "outputs": [
    {
     "name": "stdout",
     "output_type": "stream",
     "text": [
      "+------+----+----------+------+\n",
      "|  Name| age|Experience|Salary|\n",
      "+------+----+----------+------+\n",
      "| Krish|  31|        10| 30000|\n",
      "|  John|  30|         8| 25000|\n",
      "| Surya|  29|         4| 20000|\n",
      "|  Paul|  24|         3| 20000|\n",
      "|Harsha|  21|         1| 15000|\n",
      "| Subha|  23|         2| 18000|\n",
      "|Mahesh|null|      null| 40000|\n",
      "|  null|  34|        10| 38000|\n",
      "|  null|  36|      null|  null|\n",
      "+------+----+----------+------+\n",
      "\n"
     ]
    }
   ],
   "source": [
    "df.na.drop(how='any',thresh=2).show()    # will keep row which will have atleast 2 no_null values "
   ]
  },
  {
   "cell_type": "code",
   "execution_count": 36,
   "metadata": {},
   "outputs": [
    {
     "name": "stdout",
     "output_type": "stream",
     "text": [
      "+------+---+----------+------+\n",
      "|  Name|age|Experience|Salary|\n",
      "+------+---+----------+------+\n",
      "| Krish| 31|        10| 30000|\n",
      "|  John| 30|         8| 25000|\n",
      "| Surya| 29|         4| 20000|\n",
      "|  Paul| 24|         3| 20000|\n",
      "|Harsha| 21|         1| 15000|\n",
      "| Subha| 23|         2| 18000|\n",
      "|  null| 34|        10| 38000|\n",
      "|  null| 36|      null|  null|\n",
      "+------+---+----------+------+\n",
      "\n"
     ]
    }
   ],
   "source": [
    "df.na.drop(how='any',thresh=3).show()"
   ]
  },
  {
   "cell_type": "code",
   "execution_count": 37,
   "metadata": {},
   "outputs": [
    {
     "name": "stdout",
     "output_type": "stream",
     "text": [
      "+------+---+----------+------+\n",
      "|  Name|age|Experience|Salary|\n",
      "+------+---+----------+------+\n",
      "| Krish| 31|        10| 30000|\n",
      "|  John| 30|         8| 25000|\n",
      "| Surya| 29|         4| 20000|\n",
      "|  Paul| 24|         3| 20000|\n",
      "|Harsha| 21|         1| 15000|\n",
      "| Subha| 23|         2| 18000|\n",
      "|  null| 34|        10| 38000|\n",
      "|  null| 36|      null|  null|\n",
      "+------+---+----------+------+\n",
      "\n"
     ]
    }
   ],
   "source": [
    "df.na.drop(how='any',subset='age').show()           #drop rows which have null value in specified column in subset"
   ]
  },
  {
   "cell_type": "code",
   "execution_count": 56,
   "metadata": {},
   "outputs": [
    {
     "name": "stdout",
     "output_type": "stream",
     "text": [
      "+------+----+----------+------+\n",
      "|  Name| age|Experience|Salary|\n",
      "+------+----+----------+------+\n",
      "| Krish|  31|        10| 30000|\n",
      "|  John|  30|         8| 25000|\n",
      "| Surya|  29|         4| 20000|\n",
      "|  Paul|  24|         3| 20000|\n",
      "|Harsha|  21|         1| 15000|\n",
      "| Subha|  23|         2| 18000|\n",
      "|Mahesh|null|      null| 40000|\n",
      "|  null|  34|        10| 38000|\n",
      "|  null|  36|      null|  null|\n",
      "+------+----+----------+------+\n",
      "\n"
     ]
    }
   ],
   "source": [
    "# Fill Values\n",
    "df.na.fill('Filler',['age','Salary']).show()"
   ]
  },
  {
   "cell_type": "code",
   "execution_count": 50,
   "metadata": {},
   "outputs": [
    {
     "name": "stdout",
     "output_type": "stream",
     "text": [
      "+------+----+----------+------+\n",
      "|  Name| age|Experience|Salary|\n",
      "+------+----+----------+------+\n",
      "| Krish|  31|        10| 30000|\n",
      "|  John|  30|         8| 25000|\n",
      "| Surya|  29|         4| 20000|\n",
      "|  Paul|  24|         3| 20000|\n",
      "|Harsha|  21|         1| 15000|\n",
      "| Subha|  23|         2| 18000|\n",
      "|Mahesh|null|      null| 40000|\n",
      "|  null|  34|        10| 38000|\n",
      "|  null|  36|      null|  null|\n",
      "+------+----+----------+------+\n",
      "\n"
     ]
    }
   ],
   "source": [
    "df.show()"
   ]
  },
  {
   "cell_type": "code",
   "execution_count": 51,
   "metadata": {},
   "outputs": [
    {
     "data": {
      "text/plain": [
       "[('Name', 'string'),\n",
       " ('age', 'int'),\n",
       " ('Experience', 'string'),\n",
       " ('Salary', 'string')]"
      ]
     },
     "execution_count": 51,
     "metadata": {},
     "output_type": "execute_result"
    }
   ],
   "source": [
    "df.dtypes"
   ]
  },
  {
   "cell_type": "code",
   "execution_count": 57,
   "metadata": {},
   "outputs": [
    {
     "name": "stdout",
     "output_type": "stream",
     "text": [
      "+------+---+----------+------+\n",
      "|  Name|age|Experience|Salary|\n",
      "+------+---+----------+------+\n",
      "| Krish| 31|        10| 30000|\n",
      "|  John| 30|         8| 25000|\n",
      "| Surya| 29|         4| 20000|\n",
      "|  Paul| 24|         3| 20000|\n",
      "|Harsha| 21|         1| 15000|\n",
      "| Subha| 23|         2| 18000|\n",
      "|Mahesh|  0|      null| 40000|\n",
      "|  null| 34|        10| 38000|\n",
      "|  null| 36|      null|     0|\n",
      "+------+---+----------+------+\n",
      "\n"
     ]
    }
   ],
   "source": [
    "df.na.fill(0).show()"
   ]
  },
  {
   "cell_type": "code",
   "execution_count": null,
   "metadata": {},
   "outputs": [],
   "source": []
  }
 ],
 "metadata": {
  "kernelspec": {
   "display_name": "Python 3",
   "language": "python",
   "name": "python3"
  },
  "language_info": {
   "codemirror_mode": {
    "name": "ipython",
    "version": 3
   },
   "file_extension": ".py",
   "mimetype": "text/x-python",
   "name": "python",
   "nbconvert_exporter": "python",
   "pygments_lexer": "ipython3",
   "version": "3.7.6"
  }
 },
 "nbformat": 4,
 "nbformat_minor": 4
}
