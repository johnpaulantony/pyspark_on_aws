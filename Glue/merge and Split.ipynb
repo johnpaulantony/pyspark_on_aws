{
 "cells": [
  {
   "cell_type": "code",
   "execution_count": 1,
   "id": "e262ca2b",
   "metadata": {},
   "outputs": [
    {
     "name": "stdout",
     "output_type": "stream",
     "text": [
      "Starting Spark application\n"
     ]
    },
    {
     "data": {
      "text/html": [
       "<table>\n",
       "<tr><th>ID</th><th>YARN Application ID</th><th>Kind</th><th>State</th><th>Spark UI</th><th>Driver log</th><th>User</th><th>Current session?</th></tr><tr><td>13</td><td>application_1632897281066_0014</td><td>pyspark</td><td>idle</td><td><a target=\"_blank\" href=\"http://ip-172-31-29-146.ap-south-1.compute.internal:20888/proxy/application_1632897281066_0014/\">Link</a></td><td><a target=\"_blank\" href=\"http://ip-172-31-23-246.ap-south-1.compute.internal:8042/node/containerlogs/container_1632897281066_0014_01_000001/livy\">Link</a></td><td>None</td><td>✔</td></tr></table>"
      ],
      "text/plain": [
       "<IPython.core.display.HTML object>"
      ]
     },
     "metadata": {},
     "output_type": "display_data"
    },
    {
     "data": {
      "application/vnd.jupyter.widget-view+json": {
       "model_id": "",
       "version_major": 2,
       "version_minor": 0
      },
      "text/plain": [
       "FloatProgress(value=0.0, bar_style='info', description='Progress:', layout=Layout(height='25px', width='50%'),…"
      ]
     },
     "metadata": {},
     "output_type": "display_data"
    },
    {
     "name": "stdout",
     "output_type": "stream",
     "text": [
      "SparkSession available as 'spark'.\n"
     ]
    },
    {
     "data": {
      "application/vnd.jupyter.widget-view+json": {
       "model_id": "",
       "version_major": 2,
       "version_minor": 0
      },
      "text/plain": [
       "FloatProgress(value=0.0, bar_style='info', description='Progress:', layout=Layout(height='25px', width='50%'),…"
      ]
     },
     "metadata": {},
     "output_type": "display_data"
    }
   ],
   "source": [
    "import sys\n",
    "from awsglue.transforms import *\n",
    "from awsglue.utils import getResolvedOptions\n",
    "from pyspark.context import SparkContext\n",
    "from awsglue.context import GlueContext\n",
    "from awsglue.job import Job\n",
    "\n",
    "glueContext = GlueContext(SparkContext.getOrCreate())"
   ]
  },
  {
   "cell_type": "code",
   "execution_count": 2,
   "id": "a97641ed",
   "metadata": {},
   "outputs": [
    {
     "data": {
      "application/vnd.jupyter.widget-view+json": {
       "model_id": "",
       "version_major": 2,
       "version_minor": 0
      },
      "text/plain": [
       "FloatProgress(value=0.0, bar_style='info', description='Progress:', layout=Layout(height='25px', width='50%'),…"
      ]
     },
     "metadata": {},
     "output_type": "display_data"
    }
   ],
   "source": [
    "salesDF = glueContext.create_dynamic_frame.from_catalog(\n",
    "             database=\"johndb\",\n",
    "             table_name=\"sales\")\n",
    "customerDF = glueContext.create_dynamic_frame.from_catalog(\n",
    "             database=\"johndb\",\n",
    "             table_name=\"customers\")"
   ]
  },
  {
   "cell_type": "code",
   "execution_count": 3,
   "id": "158a6a59",
   "metadata": {},
   "outputs": [
    {
     "data": {
      "application/vnd.jupyter.widget-view+json": {
       "model_id": "",
       "version_major": 2,
       "version_minor": 0
      },
      "text/plain": [
       "FloatProgress(value=0.0, bar_style='info', description='Progress:', layout=Layout(height='25px', width='50%'),…"
      ]
     },
     "metadata": {},
     "output_type": "display_data"
    },
    {
     "name": "stdout",
     "output_type": "stream",
     "text": [
      "root\n",
      "|-- ordernumber: long\n",
      "|-- quantityordered: long\n",
      "|-- priceeach: double\n",
      "|-- orderlinenumber: long\n",
      "|-- sales: double\n",
      "|-- orderdate: string\n",
      "|-- status: string\n",
      "|-- qtr_id: long\n",
      "|-- month_id: long\n",
      "|-- year_id: long\n",
      "|-- productline: string\n",
      "|-- msrp: long\n",
      "|-- productcode: string\n",
      "|-- dealsize: string\n",
      "|-- customerid: long\n",
      "\n",
      "root\n",
      "|-- customerid: long\n",
      "|-- customername: string\n",
      "|-- email: string\n",
      "|-- city: string\n",
      "|-- country: string\n",
      "|-- territory: string\n",
      "|-- contactfirstname: string\n",
      "|-- contactlastname: string"
     ]
    }
   ],
   "source": [
    "salesDF.printSchema()\n",
    "customerDF.printSchema()"
   ]
  },
  {
   "cell_type": "code",
   "execution_count": 4,
   "id": "3cb5136d",
   "metadata": {},
   "outputs": [
    {
     "data": {
      "application/vnd.jupyter.widget-view+json": {
       "model_id": "",
       "version_major": 2,
       "version_minor": 0
      },
      "text/plain": [
       "FloatProgress(value=0.0, bar_style='info', description='Progress:', layout=Layout(height='25px', width='50%'),…"
      ]
     },
     "metadata": {},
     "output_type": "display_data"
    },
    {
     "name": "stdout",
     "output_type": "stream",
     "text": [
      "root\n",
      "|-- orderlinenumber: long\n",
      "|-- sales: double\n",
      "|-- territory: string\n",
      "|-- city: string\n",
      "|-- customername: string\n",
      "|-- year_id: long\n",
      "|-- productline: string\n",
      "|-- contactlastname: string\n",
      "|-- country: string\n",
      "|-- .customerid: long\n",
      "|-- qtr_id: long\n",
      "|-- msrp: long\n",
      "|-- quantityordered: long\n",
      "|-- productcode: string\n",
      "|-- status: string\n",
      "|-- email: string\n",
      "|-- contactfirstname: string\n",
      "|-- ordernumber: long\n",
      "|-- orderdate: string\n",
      "|-- customerid: long\n",
      "|-- dealsize: string\n",
      "|-- month_id: long\n",
      "|-- priceeach: double"
     ]
    }
   ],
   "source": [
    "customersalesDF=Join.apply(salesDF, customerDF, 'customerid', 'customerid')\n",
    "customersalesDF.printSchema()"
   ]
  },
  {
   "cell_type": "code",
   "execution_count": 5,
   "id": "7d6d342a",
   "metadata": {},
   "outputs": [
    {
     "data": {
      "application/vnd.jupyter.widget-view+json": {
       "model_id": "",
       "version_major": 2,
       "version_minor": 0
      },
      "text/plain": [
       "FloatProgress(value=0.0, bar_style='info', description='Progress:', layout=Layout(height='25px', width='50%'),…"
      ]
     },
     "metadata": {},
     "output_type": "display_data"
    },
    {
     "name": "stdout",
     "output_type": "stream",
     "text": [
      "root\n",
      "|-- orderlinenumber: long\n",
      "|-- sales: double\n",
      "|-- territory: string\n",
      "|-- city: string\n",
      "|-- customername: string\n",
      "|-- year_id: long\n",
      "|-- productline: string\n",
      "|-- contactlastname: string\n",
      "|-- country: string\n",
      "|-- qtr_id: long\n",
      "|-- msrp: long\n",
      "|-- quantityordered: long\n",
      "|-- productcode: string\n",
      "|-- status: string\n",
      "|-- email: string\n",
      "|-- contactfirstname: string\n",
      "|-- ordernumber: long\n",
      "|-- orderdate: string\n",
      "|-- customerid: long\n",
      "|-- dealsize: string\n",
      "|-- month_id: long\n",
      "|-- priceeach: double"
     ]
    }
   ],
   "source": [
    "customersalesDF = customersalesDF.drop_fields(['`.customerid`'])\n",
    "customersalesDF.printSchema()"
   ]
  },
  {
   "cell_type": "code",
   "execution_count": 3,
   "id": "954f4c81",
   "metadata": {},
   "outputs": [
    {
     "data": {
      "application/vnd.jupyter.widget-view+json": {
       "model_id": "",
       "version_major": 2,
       "version_minor": 0
      },
      "text/plain": [
       "FloatProgress(value=0.0, bar_style='info', description='Progress:', layout=Layout(height='25px', width='50%'),…"
      ]
     },
     "metadata": {},
     "output_type": "display_data"
    },
    {
     "name": "stdout",
     "output_type": "stream",
     "text": [
      "dict_keys(['productsDF', 'restDF'])"
     ]
    }
   ],
   "source": [
    "#You can split a Dynamicframe vertically based on the columns. Use SplitFields method which splits a Dynamicframe into a collection of Dynamicframes. \n",
    "colwiseCollection = SplitFields.apply(salesDF,[\"productline\",\"dealsize\",\"status\"],\"productsDF\",\"restDF\")\n",
    "colwiseCollection.keys()"
   ]
  },
  {
   "cell_type": "code",
   "execution_count": 4,
   "id": "ff158673",
   "metadata": {},
   "outputs": [
    {
     "data": {
      "application/vnd.jupyter.widget-view+json": {
       "model_id": "",
       "version_major": 2,
       "version_minor": 0
      },
      "text/plain": [
       "FloatProgress(value=0.0, bar_style='info', description='Progress:', layout=Layout(height='25px', width='50%'),…"
      ]
     },
     "metadata": {},
     "output_type": "display_data"
    },
    {
     "name": "stdout",
     "output_type": "stream",
     "text": [
      "root\n",
      "|-- productline: string\n",
      "|-- dealsize: string\n",
      "|-- status: string\n",
      "\n",
      "root\n",
      "|-- ordernumber: long\n",
      "|-- quantityordered: long\n",
      "|-- priceeach: double\n",
      "|-- orderlinenumber: long\n",
      "|-- sales: double\n",
      "|-- orderdate: string\n",
      "|-- qtr_id: long\n",
      "|-- month_id: long\n",
      "|-- year_id: long\n",
      "|-- msrp: long\n",
      "|-- productcode: string\n",
      "|-- customerid: long"
     ]
    }
   ],
   "source": [
    "colwiseCollection.select(\"productsDF\").printSchema()\n",
    "colwiseCollection.select(\"restDF\").printSchema()"
   ]
  },
  {
   "cell_type": "code",
   "execution_count": 5,
   "id": "842aefcd",
   "metadata": {},
   "outputs": [
    {
     "data": {
      "application/vnd.jupyter.widget-view+json": {
       "model_id": "",
       "version_major": 2,
       "version_minor": 0
      },
      "text/plain": [
       "FloatProgress(value=0.0, bar_style='info', description='Progress:', layout=Layout(height='25px', width='50%'),…"
      ]
     },
     "metadata": {},
     "output_type": "display_data"
    },
    {
     "name": "stdout",
     "output_type": "stream",
     "text": [
      "dict_keys(['sales5000plus', 'sales5000minus'])"
     ]
    }
   ],
   "source": [
    "# you can split a Dynamicframe horizontally based on the row. Use SplitRows method which splits a Dynamicframe into a collection of Dynamicframes based on the condition specified for the rows. \n",
    "rowwiseCollection = SplitRows.apply(salesDF,{\"sales\": {\">\": 5000.00}},\"sales5000plus\",\"sales5000minus\")\n",
    "rowwiseCollection.keys()"
   ]
  },
  {
   "cell_type": "code",
   "execution_count": 6,
   "id": "55f0a88e",
   "metadata": {},
   "outputs": [
    {
     "data": {
      "application/vnd.jupyter.widget-view+json": {
       "model_id": "",
       "version_major": 2,
       "version_minor": 0
      },
      "text/plain": [
       "FloatProgress(value=0.0, bar_style='info', description='Progress:', layout=Layout(height='25px', width='50%'),…"
      ]
     },
     "metadata": {},
     "output_type": "display_data"
    },
    {
     "name": "stdout",
     "output_type": "stream",
     "text": [
      "+-------+\n",
      "|  sales|\n",
      "+-------+\n",
      "| 2871.0|\n",
      "| 2765.9|\n",
      "|3884.34|\n",
      "| 3746.7|\n",
      "|3479.76|\n",
      "|2497.77|\n",
      "|2168.54|\n",
      "|4708.44|\n",
      "|3965.66|\n",
      "|2333.12|\n",
      "|3188.64|\n",
      "|3676.76|\n",
      "|4177.35|\n",
      "|4099.68|\n",
      "|2597.39|\n",
      "|4394.38|\n",
      "|4358.04|\n",
      "|4396.14|\n",
      "| 1451.0|\n",
      "| 733.11|\n",
      "+-------+\n",
      "only showing top 20 rows\n",
      "\n",
      "+-------+\n",
      "|  sales|\n",
      "+-------+\n",
      "|5205.27|\n",
      "|5512.32|\n",
      "|7737.93|\n",
      "|7516.08|\n",
      "|5404.62|\n",
      "|7209.11|\n",
      "|7329.06|\n",
      "| 7374.1|\n",
      "|10993.5|\n",
      "|8014.82|\n",
      "|5372.57|\n",
      "|7290.36|\n",
      "|9064.89|\n",
      "| 6075.3|\n",
      "|6463.23|\n",
      "|6120.34|\n",
      "|7680.64|\n",
      "|8014.82|\n",
      "|7136.19|\n",
      "|10172.7|\n",
      "+-------+\n",
      "only showing top 20 rows"
     ]
    }
   ],
   "source": [
    "rowwiseCollection.select(\"sales5000minus\").toDF().select('sales').show()\n",
    "rowwiseCollection.select(\"sales5000plus\").toDF().select('sales').show()"
   ]
  },
  {
   "cell_type": "code",
   "execution_count": 7,
   "id": "5dceba6d",
   "metadata": {},
   "outputs": [
    {
     "data": {
      "application/vnd.jupyter.widget-view+json": {
       "model_id": "",
       "version_major": 2,
       "version_minor": 0
      },
      "text/plain": [
       "FloatProgress(value=0.0, bar_style='info', description='Progress:', layout=Layout(height='25px', width='50%'),…"
      ]
     },
     "metadata": {},
     "output_type": "display_data"
    },
    {
     "name": "stdout",
     "output_type": "stream",
     "text": [
      "+-----------+---------------+---------+---------------+-------+---------------+--------+------+--------+-------+------------+----+-----------+--------+----------+\n",
      "|ordernumber|quantityordered|priceeach|orderlinenumber|  sales|      orderdate|  status|qtr_id|month_id|year_id| productline|msrp|productcode|dealsize|customerid|\n",
      "+-----------+---------------+---------+---------------+-------+---------------+--------+------+--------+-------+------------+----+-----------+--------+----------+\n",
      "|      10159|             49|    100.0|             14|5205.27|10/10/2003 0:00| Shipped|     4|      10|   2003| Motorcycles|  95|   S10_1678|  Medium|         5|\n",
      "|      10188|             48|    100.0|              1|5512.32|11/18/2003 0:00| Shipped|     4|      11|   2003| Motorcycles|  95|   S10_1678|  Medium|         8|\n",
      "|      10341|             41|    100.0|              9|7737.93|11/24/2004 0:00| Shipped|     4|      11|   2004| Motorcycles|  95|   S10_1678|   Large|        21|\n",
      "|      10417|             66|    100.0|              2|7516.08| 5/13/2005 0:00|Disputed|     2|       5|   2005| Motorcycles|  95|   S10_1678|   Large|        26|\n",
      "|      10103|             26|    100.0|             11|5404.62| 1/29/2003 0:00| Shipped|     1|       1|   2003|Classic Cars| 214|   S10_1949|  Medium|        27|\n",
      "|      10112|             29|    100.0|              1|7209.11| 3/24/2003 0:00| Shipped|     1|       3|   2003|Classic Cars| 214|   S10_1949|   Large|        28|\n",
      "|      10126|             38|    100.0|             11|7329.06| 5/28/2003 0:00| Shipped|     2|       5|   2003|Classic Cars| 214|   S10_1949|   Large|        29|\n",
      "|      10140|             37|    100.0|             11| 7374.1| 7/24/2003 0:00| Shipped|     3|       7|   2003|Classic Cars| 214|   S10_1949|   Large|        30|\n",
      "|      10150|             45|    100.0|              8|10993.5| 9/19/2003 0:00| Shipped|     3|       9|   2003|Classic Cars| 214|   S10_1949|   Large|        31|\n",
      "|      10174|             34|    100.0|              4|8014.82| 11/6/2003 0:00| Shipped|     4|      11|   2003|Classic Cars| 214|   S10_1949|   Large|        33|\n",
      "|      10183|             23|    100.0|              8|5372.57|11/13/2003 0:00| Shipped|     4|      11|   2003|Classic Cars| 214|   S10_1949|  Medium|        34|\n",
      "|      10194|             42|    100.0|             11|7290.36|11/25/2003 0:00| Shipped|     4|      11|   2003|Classic Cars| 214|   S10_1949|   Large|        35|\n",
      "|      10206|             47|    100.0|              6|9064.89| 12/5/2003 0:00| Shipped|     4|      12|   2003|Classic Cars| 214|   S10_1949|   Large|        36|\n",
      "|      10215|             35|    100.0|              3| 6075.3| 1/29/2004 0:00| Shipped|     1|       1|   2004|Classic Cars| 214|   S10_1949|  Medium|        37|\n",
      "|      10228|             29|    100.0|              2|6463.23| 3/10/2004 0:00| Shipped|     1|       3|   2004|Classic Cars| 214|   S10_1949|  Medium|        38|\n",
      "|      10245|             34|    100.0|              9|6120.34|  5/4/2004 0:00| Shipped|     2|       5|   2004|Classic Cars| 214|   S10_1949|  Medium|        39|\n",
      "|      10258|             32|    100.0|              6|7680.64| 6/15/2004 0:00| Shipped|     2|       6|   2004|Classic Cars| 214|   S10_1949|   Large|        40|\n",
      "|      10280|             34|    100.0|              2|8014.82| 8/17/2004 0:00| Shipped|     3|       8|   2004|Classic Cars| 214|   S10_1949|   Large|        42|\n",
      "|      10291|             37|    100.0|             11|7136.19|  9/8/2004 0:00| Shipped|     3|       9|   2004|Classic Cars| 214|   S10_1949|   Large|        43|\n",
      "|      10304|             47|    100.0|              6|10172.7|10/11/2004 0:00| Shipped|     4|      10|   2004|Classic Cars| 214|   S10_1949|   Large|        44|\n",
      "+-----------+---------------+---------+---------------+-------+---------------+--------+------+--------+-------+------------+----+-----------+--------+----------+\n",
      "only showing top 20 rows"
     ]
    }
   ],
   "source": [
    "sales5000minus = rowwiseCollection.select(\"sales5000minus\").toDF()\n",
    "sales5000plus = rowwiseCollection.select(\"sales5000plus\").toDF()\n",
    "allsalesDF = sales5000plus.union(sales5000minus)\n",
    "allsalesDF.show()"
   ]
  },
  {
   "cell_type": "code",
   "execution_count": null,
   "id": "c80fcaa3",
   "metadata": {},
   "outputs": [],
   "source": []
  }
 ],
 "metadata": {
  "kernelspec": {
   "display_name": "Python 3 (ipykernel)",
   "language": "python",
   "name": "python3"
  },
  "language_info": {
   "codemirror_mode": {
    "name": "ipython",
    "version": 3
   },
   "file_extension": ".py",
   "mimetype": "text/x-python",
   "name": "python",
   "nbconvert_exporter": "python",
   "pygments_lexer": "ipython3",
   "version": "3.11.7"
  }
 },
 "nbformat": 4,
 "nbformat_minor": 5
}
