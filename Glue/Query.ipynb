{
 "cells": [
  {
   "cell_type": "code",
   "execution_count": 1,
   "id": "2f3a06c0",
   "metadata": {},
   "outputs": [
    {
     "name": "stdout",
     "output_type": "stream",
     "text": [
      "Starting Spark application\n"
     ]
    },
    {
     "data": {
      "text/html": [
       "<table>\n",
       "<tr><th>ID</th><th>YARN Application ID</th><th>Kind</th><th>State</th><th>Spark UI</th><th>Driver log</th><th>User</th><th>Current session?</th></tr><tr><td>10</td><td>application_1632897281066_0011</td><td>pyspark</td><td>idle</td><td><a target=\"_blank\" href=\"http://ip-172-31-29-146.ap-south-1.compute.internal:20888/proxy/application_1632897281066_0011/\">Link</a></td><td><a target=\"_blank\" href=\"http://ip-172-31-29-91.ap-south-1.compute.internal:8042/node/containerlogs/container_1632897281066_0011_01_000001/livy\">Link</a></td><td>None</td><td>✔</td></tr></table>"
      ],
      "text/plain": [
       "<IPython.core.display.HTML object>"
      ]
     },
     "metadata": {},
     "output_type": "display_data"
    },
    {
     "data": {
      "application/vnd.jupyter.widget-view+json": {
       "model_id": "",
       "version_major": 2,
       "version_minor": 0
      },
      "text/plain": [
       "FloatProgress(value=0.0, bar_style='info', description='Progress:', layout=Layout(height='25px', width='50%'),…"
      ]
     },
     "metadata": {},
     "output_type": "display_data"
    },
    {
     "name": "stdout",
     "output_type": "stream",
     "text": [
      "SparkSession available as 'spark'.\n"
     ]
    },
    {
     "data": {
      "application/vnd.jupyter.widget-view+json": {
       "model_id": "",
       "version_major": 2,
       "version_minor": 0
      },
      "text/plain": [
       "FloatProgress(value=0.0, bar_style='info', description='Progress:', layout=Layout(height='25px', width='50%'),…"
      ]
     },
     "metadata": {},
     "output_type": "display_data"
    }
   ],
   "source": [
    "import sys\n",
    "from awsglue.transforms import *\n",
    "from awsglue.utils import getResolvedOptions\n",
    "from pyspark.context import SparkContext\n",
    "from awsglue.context import GlueContext\n",
    "from awsglue.job import Job\n",
    "\n",
    "glueContext = GlueContext(SparkContext.getOrCreate())"
   ]
  },
  {
   "cell_type": "code",
   "execution_count": 2,
   "id": "3d7f8fde",
   "metadata": {},
   "outputs": [
    {
     "data": {
      "application/vnd.jupyter.widget-view+json": {
       "model_id": "",
       "version_major": 2,
       "version_minor": 0
      },
      "text/plain": [
       "FloatProgress(value=0.0, bar_style='info', description='Progress:', layout=Layout(height='25px', width='50%'),…"
      ]
     },
     "metadata": {},
     "output_type": "display_data"
    }
   ],
   "source": [
    "salesDF = glueContext.create_dynamic_frame.from_catalog(\n",
    "             database=\"johndb\",\n",
    "             table_name=\"sales\")"
   ]
  },
  {
   "cell_type": "code",
   "execution_count": 3,
   "id": "168b569f",
   "metadata": {},
   "outputs": [
    {
     "data": {
      "application/vnd.jupyter.widget-view+json": {
       "model_id": "",
       "version_major": 2,
       "version_minor": 0
      },
      "text/plain": [
       "FloatProgress(value=0.0, bar_style='info', description='Progress:', layout=Layout(height='25px', width='50%'),…"
      ]
     },
     "metadata": {},
     "output_type": "display_data"
    },
    {
     "name": "stdout",
     "output_type": "stream",
     "text": [
      "+-----------+---------------+---------+---------------+-------+---------------+-------+------+--------+-------+-----------+----+-----------+--------+----------+\n",
      "|ordernumber|quantityordered|priceeach|orderlinenumber|  sales|      orderdate| status|qtr_id|month_id|year_id|productline|msrp|productcode|dealsize|customerid|\n",
      "+-----------+---------------+---------+---------------+-------+---------------+-------+------+--------+-------+-----------+----+-----------+--------+----------+\n",
      "|      10107|             30|     95.7|              2| 2871.0| 2/24/2003 0:00|Shipped|     1|       2|   2003|Motorcycles|  95|   S10_1678|   Small|         1|\n",
      "|      10121|             34|    81.35|              5| 2765.9|  5/7/2003 0:00|Shipped|     2|       5|   2003|Motorcycles|  95|   S10_1678|   Small|         2|\n",
      "|      10134|             41|    94.74|              2|3884.34|  7/1/2003 0:00|Shipped|     3|       7|   2003|Motorcycles|  95|   S10_1678|  Medium|         3|\n",
      "|      10145|             45|    83.26|              6| 3746.7| 8/25/2003 0:00|Shipped|     3|       8|   2003|Motorcycles|  95|   S10_1678|  Medium|         4|\n",
      "|      10159|             49|    100.0|             14|5205.27|10/10/2003 0:00|Shipped|     4|      10|   2003|Motorcycles|  95|   S10_1678|  Medium|         5|\n",
      "|      10168|             36|    96.66|              1|3479.76|10/28/2003 0:00|Shipped|     4|      10|   2003|Motorcycles|  95|   S10_1678|  Medium|         6|\n",
      "|      10180|             29|    86.13|              9|2497.77|11/11/2003 0:00|Shipped|     4|      11|   2003|Motorcycles|  95|   S10_1678|   Small|         7|\n",
      "|      10188|             48|    100.0|              1|5512.32|11/18/2003 0:00|Shipped|     4|      11|   2003|Motorcycles|  95|   S10_1678|  Medium|         8|\n",
      "|      10201|             22|    98.57|              2|2168.54| 12/1/2003 0:00|Shipped|     4|      12|   2003|Motorcycles|  95|   S10_1678|   Small|         9|\n",
      "|      10211|             41|    100.0|             14|4708.44| 1/15/2004 0:00|Shipped|     1|       1|   2004|Motorcycles|  95|   S10_1678|  Medium|        10|\n",
      "|      10223|             37|    100.0|              1|3965.66| 2/20/2004 0:00|Shipped|     1|       2|   2004|Motorcycles|  95|   S10_1678|  Medium|        11|\n",
      "|      10237|             23|    100.0|              7|2333.12|  4/5/2004 0:00|Shipped|     2|       4|   2004|Motorcycles|  95|   S10_1678|   Small|        12|\n",
      "|      10251|             28|    100.0|              2|3188.64| 5/18/2004 0:00|Shipped|     2|       5|   2004|Motorcycles|  95|   S10_1678|  Medium|        13|\n",
      "|      10263|             34|    100.0|              2|3676.76| 6/28/2004 0:00|Shipped|     2|       6|   2004|Motorcycles|  95|   S10_1678|  Medium|        14|\n",
      "|      10275|             45|    92.83|              1|4177.35| 7/23/2004 0:00|Shipped|     3|       7|   2004|Motorcycles|  95|   S10_1678|  Medium|        15|\n",
      "|      10285|             36|    100.0|              6|4099.68| 8/27/2004 0:00|Shipped|     3|       8|   2004|Motorcycles|  95|   S10_1678|  Medium|        16|\n",
      "|      10299|             23|    100.0|              9|2597.39| 9/30/2004 0:00|Shipped|     3|       9|   2004|Motorcycles|  95|   S10_1678|   Small|        17|\n",
      "|      10309|             41|    100.0|              5|4394.38|10/15/2004 0:00|Shipped|     4|      10|   2004|Motorcycles|  95|   S10_1678|  Medium|        18|\n",
      "|      10318|             46|    94.74|              1|4358.04| 11/2/2004 0:00|Shipped|     4|      11|   2004|Motorcycles|  95|   S10_1678|  Medium|        19|\n",
      "|      10329|             42|    100.0|              1|4396.14|11/15/2004 0:00|Shipped|     4|      11|   2004|Motorcycles|  95|   S10_1678|  Medium|        20|\n",
      "+-----------+---------------+---------+---------------+-------+---------------+-------+------+--------+-------+-----------+----+-----------+--------+----------+\n",
      "only showing top 20 rows"
     ]
    }
   ],
   "source": [
    "salesDF.toDF().show()"
   ]
  },
  {
   "cell_type": "code",
   "execution_count": 4,
   "id": "008a4807",
   "metadata": {},
   "outputs": [
    {
     "data": {
      "application/vnd.jupyter.widget-view+json": {
       "model_id": "",
       "version_major": 2,
       "version_minor": 0
      },
      "text/plain": [
       "FloatProgress(value=0.0, bar_style='info', description='Progress:', layout=Layout(height='25px', width='50%'),…"
      ]
     },
     "metadata": {},
     "output_type": "display_data"
    },
    {
     "name": "stdout",
     "output_type": "stream",
     "text": [
      "+-----------+---------------+---------+---------------+------+--------------+-------+------+--------+-------+-----------+----+-----------+--------+----------+\n",
      "|ordernumber|quantityordered|priceeach|orderlinenumber| sales|     orderdate| status|qtr_id|month_id|year_id|productline|msrp|productcode|dealsize|customerid|\n",
      "+-----------+---------------+---------+---------------+------+--------------+-------+------+--------+-------+-----------+----+-----------+--------+----------+\n",
      "|      10107|             30|     95.7|              2|2871.0|2/24/2003 0:00|Shipped|     1|       2|   2003|Motorcycles|  95|   S10_1678|   Small|         1|\n",
      "|      10121|             34|    81.35|              5|2765.9| 5/7/2003 0:00|Shipped|     2|       5|   2003|Motorcycles|  95|   S10_1678|   Small|         2|\n",
      "+-----------+---------------+---------+---------------+------+--------------+-------+------+--------+-------+-----------+----+-----------+--------+----------+\n",
      "only showing top 2 rows"
     ]
    }
   ],
   "source": [
    "salesDF.toDF().show(2)"
   ]
  },
  {
   "cell_type": "code",
   "execution_count": 5,
   "id": "6df15d74",
   "metadata": {},
   "outputs": [
    {
     "data": {
      "application/vnd.jupyter.widget-view+json": {
       "model_id": "",
       "version_major": 2,
       "version_minor": 0
      },
      "text/plain": [
       "FloatProgress(value=0.0, bar_style='info', description='Progress:', layout=Layout(height='25px', width='50%'),…"
      ]
     },
     "metadata": {},
     "output_type": "display_data"
    },
    {
     "name": "stdout",
     "output_type": "stream",
     "text": [
      "Row(ordernumber=10107, quantityordered=30, priceeach=95.7, orderlinenumber=2, sales=2871.0, orderdate='2/24/2003 0:00', status='Shipped', qtr_id=1, month_id=2, year_id=2003, productline='Motorcycles', msrp=95, productcode='S10_1678', dealsize='Small', customerid=1)"
     ]
    }
   ],
   "source": [
    "salesDF.toDF().head()"
   ]
  },
  {
   "cell_type": "code",
   "execution_count": 6,
   "id": "e6bd014a",
   "metadata": {},
   "outputs": [
    {
     "data": {
      "application/vnd.jupyter.widget-view+json": {
       "model_id": "",
       "version_major": 2,
       "version_minor": 0
      },
      "text/plain": [
       "FloatProgress(value=0.0, bar_style='info', description='Progress:', layout=Layout(height='25px', width='50%'),…"
      ]
     },
     "metadata": {},
     "output_type": "display_data"
    },
    {
     "name": "stdout",
     "output_type": "stream",
     "text": [
      "+-----------+-------+\n",
      "|ordernumber|  sales|\n",
      "+-----------+-------+\n",
      "|      10107| 2871.0|\n",
      "|      10121| 2765.9|\n",
      "|      10134|3884.34|\n",
      "|      10145| 3746.7|\n",
      "|      10159|5205.27|\n",
      "|      10168|3479.76|\n",
      "|      10180|2497.77|\n",
      "|      10188|5512.32|\n",
      "|      10201|2168.54|\n",
      "|      10211|4708.44|\n",
      "|      10223|3965.66|\n",
      "|      10237|2333.12|\n",
      "|      10251|3188.64|\n",
      "|      10263|3676.76|\n",
      "|      10275|4177.35|\n",
      "|      10285|4099.68|\n",
      "|      10299|2597.39|\n",
      "|      10309|4394.38|\n",
      "|      10318|4358.04|\n",
      "|      10329|4396.14|\n",
      "+-----------+-------+\n",
      "only showing top 20 rows"
     ]
    }
   ],
   "source": [
    "#SelectFields method with the Dynamicframe to query rows with selected columns.\n",
    "ordersDF = SelectFields.apply(salesDF,[\"ordernumber\",\"sales\"])\n",
    "ordersDF.toDF().show()"
   ]
  },
  {
   "cell_type": "code",
   "execution_count": 8,
   "id": "f5562cae",
   "metadata": {},
   "outputs": [
    {
     "data": {
      "application/vnd.jupyter.widget-view+json": {
       "model_id": "",
       "version_major": 2,
       "version_minor": 0
      },
      "text/plain": [
       "FloatProgress(value=0.0, bar_style='info', description='Progress:', layout=Layout(height='25px', width='50%'),…"
      ]
     },
     "metadata": {},
     "output_type": "display_data"
    },
    {
     "name": "stdout",
     "output_type": "stream",
     "text": [
      "+---------------+-------+-------+------------+------+----+---------------+-----------+----------+-----------+--------------+----------+--------+---------+--------+\n",
      "|orderlinenumber|  sales|year_id| productline|qtr_id|msrp|quantityordered|productcode|    status|ordernumber|     orderdate|customerid|dealsize|priceeach|month_id|\n",
      "+---------------+-------+-------+------------+------+----+---------------+-----------+----------+-----------+--------------+----------+--------+---------+--------+\n",
      "|              6|12001.0|   2005|Classic Cars|     2| 214|             50|   S10_1949|In Process|      10424|5/31/2005 0:00|        54|   Large|    100.0|       5|\n",
      "|              2|14082.8|   2005|Vintage Cars|     2| 170|             76|   S18_1749|   On Hold|      10407|4/22/2005 0:00|       599|   Large|    100.0|       4|\n",
      "|              6|12536.5|   2004|Vintage Cars|     4| 127|             50|   S18_2325|   Shipped|      10322|11/4/2004 0:00|       745|   Large|    100.0|      11|\n",
      "+---------------+-------+-------+------------+------+----+---------------+-----------+----------+-----------+--------------+----------+--------+---------+--------+"
     ]
    }
   ],
   "source": [
    "highSalesDF = Filter.apply(salesDF, f = lambda x: x[\"sales\"] >  12000)\n",
    "highSalesDF.toDF().show()"
   ]
  },
  {
   "cell_type": "code",
   "execution_count": 1,
   "id": "d519a5cd",
   "metadata": {},
   "outputs": [
    {
     "ename": "NameError",
     "evalue": "name 'SplitFields' is not defined",
     "output_type": "error",
     "traceback": [
      "\u001b[1;31m---------------------------------------------------------------------------\u001b[0m",
      "\u001b[1;31mNameError\u001b[0m                                 Traceback (most recent call last)",
      "Cell \u001b[1;32mIn[1], line 2\u001b[0m\n\u001b[0;32m      1\u001b[0m \u001b[38;5;66;03m#You can split a Dynamicframe vertically based on the columns. Use SplitFields method which splits a Dynamicframe into a collection of Dynamicframes. \u001b[39;00m\n\u001b[1;32m----> 2\u001b[0m colwiseCollection \u001b[38;5;241m=\u001b[39m \u001b[43mSplitFields\u001b[49m\u001b[38;5;241m.\u001b[39mapply(salesDF,[\u001b[38;5;124m\"\u001b[39m\u001b[38;5;124mproductline\u001b[39m\u001b[38;5;124m\"\u001b[39m,\u001b[38;5;124m\"\u001b[39m\u001b[38;5;124mdealsize\u001b[39m\u001b[38;5;124m\"\u001b[39m,\u001b[38;5;124m\"\u001b[39m\u001b[38;5;124mstatus\u001b[39m\u001b[38;5;124m\"\u001b[39m],\u001b[38;5;124m\"\u001b[39m\u001b[38;5;124mproductsDF\u001b[39m\u001b[38;5;124m\"\u001b[39m,\u001b[38;5;124m\"\u001b[39m\u001b[38;5;124mrestDF\u001b[39m\u001b[38;5;124m\"\u001b[39m)\n\u001b[0;32m      3\u001b[0m colwiseCollection\u001b[38;5;241m.\u001b[39mkeys()\n",
      "\u001b[1;31mNameError\u001b[0m: name 'SplitFields' is not defined"
     ]
    }
   ],
   "source": [
    "#You can split a Dynamicframe vertically based on the columns. Use SplitFields method which splits a Dynamicframe into a collection of Dynamicframes. \n",
    "colwiseCollection = SplitFields.apply(salesDF,[\"productline\",\"dealsize\",\"status\"],\"productsDF\",\"restDF\")\n",
    "colwiseCollection.keys()"
   ]
  },
  {
   "cell_type": "code",
   "execution_count": null,
   "id": "daf1f3ab-47b4-4dfb-abda-a418a3b8d268",
   "metadata": {},
   "outputs": [],
   "source": []
  }
 ],
 "metadata": {
  "kernelspec": {
   "display_name": "Python 3 (ipykernel)",
   "language": "python",
   "name": "python3"
  },
  "language_info": {
   "codemirror_mode": {
    "name": "ipython",
    "version": 3
   },
   "file_extension": ".py",
   "mimetype": "text/x-python",
   "name": "python",
   "nbconvert_exporter": "python",
   "pygments_lexer": "ipython3",
   "version": "3.11.7"
  }
 },
 "nbformat": 4,
 "nbformat_minor": 5
}
