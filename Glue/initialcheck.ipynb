{
 "cells": [
  {
   "cell_type": "code",
   "execution_count": 1,
   "id": "c854cbc5",
   "metadata": {},
   "outputs": [
    {
     "name": "stdout",
     "output_type": "stream",
     "text": [
      "Starting Spark application\n"
     ]
    },
    {
     "data": {
      "text/html": [
       "<table>\n",
       "<tr><th>ID</th><th>YARN Application ID</th><th>Kind</th><th>State</th><th>Spark UI</th><th>Driver log</th><th>User</th><th>Current session?</th></tr><tr><td>8</td><td>application_1632897281066_0009</td><td>pyspark</td><td>idle</td><td><a target=\"_blank\" href=\"http://ip-172-31-29-146.ap-south-1.compute.internal:20888/proxy/application_1632897281066_0009/\">Link</a></td><td><a target=\"_blank\" href=\"http://ip-172-31-23-246.ap-south-1.compute.internal:8042/node/containerlogs/container_1632897281066_0009_01_000001/livy\">Link</a></td><td>None</td><td>✔</td></tr></table>"
      ],
      "text/plain": [
       "<IPython.core.display.HTML object>"
      ]
     },
     "metadata": {},
     "output_type": "display_data"
    },
    {
     "data": {
      "application/vnd.jupyter.widget-view+json": {
       "model_id": "",
       "version_major": 2,
       "version_minor": 0
      },
      "text/plain": [
       "FloatProgress(value=0.0, bar_style='info', description='Progress:', layout=Layout(height='25px', width='50%'),…"
      ]
     },
     "metadata": {},
     "output_type": "display_data"
    },
    {
     "name": "stdout",
     "output_type": "stream",
     "text": [
      "SparkSession available as 'spark'.\n"
     ]
    },
    {
     "data": {
      "application/vnd.jupyter.widget-view+json": {
       "model_id": "",
       "version_major": 2,
       "version_minor": 0
      },
      "text/plain": [
       "FloatProgress(value=0.0, bar_style='info', description='Progress:', layout=Layout(height='25px', width='50%'),…"
      ]
     },
     "metadata": {},
     "output_type": "display_data"
    }
   ],
   "source": [
    "import sys\n",
    "from awsglue.transforms import *\n",
    "from awsglue.utils import getResolvedOptions\n",
    "from pyspark.context import SparkContext\n",
    "from awsglue.context import GlueContext\n",
    "from awsglue.job import Job\n",
    "\n",
    "glueContext = GlueContext(SparkContext.getOrCreate())"
   ]
  },
  {
   "cell_type": "code",
   "execution_count": 3,
   "id": "0c014495",
   "metadata": {},
   "outputs": [
    {
     "data": {
      "application/vnd.jupyter.widget-view+json": {
       "model_id": "",
       "version_major": 2,
       "version_minor": 0
      },
      "text/plain": [
       "FloatProgress(value=0.0, bar_style='info', description='Progress:', layout=Layout(height='25px', width='50%'),…"
      ]
     },
     "metadata": {},
     "output_type": "display_data"
    }
   ],
   "source": [
    "salesDF = glueContext.create_dynamic_frame.from_catalog(\n",
    "             database=\"johndb\",\n",
    "             table_name=\"sales\")\n",
    "customerDF = glueContext.create_dynamic_frame.from_catalog(\n",
    "             database=\"johndb\",\n",
    "             table_name=\"customers\")"
   ]
  },
  {
   "cell_type": "code",
   "execution_count": 5,
   "id": "d81cc6c7",
   "metadata": {},
   "outputs": [
    {
     "data": {
      "application/vnd.jupyter.widget-view+json": {
       "model_id": "",
       "version_major": 2,
       "version_minor": 0
      },
      "text/plain": [
       "FloatProgress(value=0.0, bar_style='info', description='Progress:', layout=Layout(height='25px', width='50%'),…"
      ]
     },
     "metadata": {},
     "output_type": "display_data"
    },
    {
     "name": "stdout",
     "output_type": "stream",
     "text": [
      "+-----------+---------------+---------+---------------+-------+---------------+-------+------+--------+-------+-----------+----+-----------+--------+----------+\n",
      "|ordernumber|quantityordered|priceeach|orderlinenumber|  sales|      orderdate| status|qtr_id|month_id|year_id|productline|msrp|productcode|dealsize|customerid|\n",
      "+-----------+---------------+---------+---------------+-------+---------------+-------+------+--------+-------+-----------+----+-----------+--------+----------+\n",
      "|      10107|             30|     95.7|              2| 2871.0| 2/24/2003 0:00|Shipped|     1|       2|   2003|Motorcycles|  95|   S10_1678|   Small|         1|\n",
      "|      10121|             34|    81.35|              5| 2765.9|  5/7/2003 0:00|Shipped|     2|       5|   2003|Motorcycles|  95|   S10_1678|   Small|         2|\n",
      "|      10134|             41|    94.74|              2|3884.34|  7/1/2003 0:00|Shipped|     3|       7|   2003|Motorcycles|  95|   S10_1678|  Medium|         3|\n",
      "|      10145|             45|    83.26|              6| 3746.7| 8/25/2003 0:00|Shipped|     3|       8|   2003|Motorcycles|  95|   S10_1678|  Medium|         4|\n",
      "|      10159|             49|    100.0|             14|5205.27|10/10/2003 0:00|Shipped|     4|      10|   2003|Motorcycles|  95|   S10_1678|  Medium|         5|\n",
      "|      10168|             36|    96.66|              1|3479.76|10/28/2003 0:00|Shipped|     4|      10|   2003|Motorcycles|  95|   S10_1678|  Medium|         6|\n",
      "|      10180|             29|    86.13|              9|2497.77|11/11/2003 0:00|Shipped|     4|      11|   2003|Motorcycles|  95|   S10_1678|   Small|         7|\n",
      "|      10188|             48|    100.0|              1|5512.32|11/18/2003 0:00|Shipped|     4|      11|   2003|Motorcycles|  95|   S10_1678|  Medium|         8|\n",
      "|      10201|             22|    98.57|              2|2168.54| 12/1/2003 0:00|Shipped|     4|      12|   2003|Motorcycles|  95|   S10_1678|   Small|         9|\n",
      "|      10211|             41|    100.0|             14|4708.44| 1/15/2004 0:00|Shipped|     1|       1|   2004|Motorcycles|  95|   S10_1678|  Medium|        10|\n",
      "|      10223|             37|    100.0|              1|3965.66| 2/20/2004 0:00|Shipped|     1|       2|   2004|Motorcycles|  95|   S10_1678|  Medium|        11|\n",
      "|      10237|             23|    100.0|              7|2333.12|  4/5/2004 0:00|Shipped|     2|       4|   2004|Motorcycles|  95|   S10_1678|   Small|        12|\n",
      "|      10251|             28|    100.0|              2|3188.64| 5/18/2004 0:00|Shipped|     2|       5|   2004|Motorcycles|  95|   S10_1678|  Medium|        13|\n",
      "|      10263|             34|    100.0|              2|3676.76| 6/28/2004 0:00|Shipped|     2|       6|   2004|Motorcycles|  95|   S10_1678|  Medium|        14|\n",
      "|      10275|             45|    92.83|              1|4177.35| 7/23/2004 0:00|Shipped|     3|       7|   2004|Motorcycles|  95|   S10_1678|  Medium|        15|\n",
      "|      10285|             36|    100.0|              6|4099.68| 8/27/2004 0:00|Shipped|     3|       8|   2004|Motorcycles|  95|   S10_1678|  Medium|        16|\n",
      "|      10299|             23|    100.0|              9|2597.39| 9/30/2004 0:00|Shipped|     3|       9|   2004|Motorcycles|  95|   S10_1678|   Small|        17|\n",
      "|      10309|             41|    100.0|              5|4394.38|10/15/2004 0:00|Shipped|     4|      10|   2004|Motorcycles|  95|   S10_1678|  Medium|        18|\n",
      "|      10318|             46|    94.74|              1|4358.04| 11/2/2004 0:00|Shipped|     4|      11|   2004|Motorcycles|  95|   S10_1678|  Medium|        19|\n",
      "|      10329|             42|    100.0|              1|4396.14|11/15/2004 0:00|Shipped|     4|      11|   2004|Motorcycles|  95|   S10_1678|  Medium|        20|\n",
      "+-----------+---------------+---------+---------------+-------+---------------+-------+------+--------+-------+-----------+----+-----------+--------+----------+\n",
      "only showing top 20 rows"
     ]
    }
   ],
   "source": [
    "salesDF.toDF().show()"
   ]
  },
  {
   "cell_type": "code",
   "execution_count": 6,
   "id": "22927195",
   "metadata": {},
   "outputs": [
    {
     "data": {
      "application/vnd.jupyter.widget-view+json": {
       "model_id": "",
       "version_major": 2,
       "version_minor": 0
      },
      "text/plain": [
       "FloatProgress(value=0.0, bar_style='info', description='Progress:', layout=Layout(height='25px', width='50%'),…"
      ]
     },
     "metadata": {},
     "output_type": "display_data"
    },
    {
     "name": "stdout",
     "output_type": "stream",
     "text": [
      "root\n",
      "|-- ordernumber: long\n",
      "|-- quantityordered: long\n",
      "|-- priceeach: double\n",
      "|-- orderlinenumber: long\n",
      "|-- sales: double\n",
      "|-- orderdate: string\n",
      "|-- status: string\n",
      "|-- qtr_id: long\n",
      "|-- month_id: long\n",
      "|-- year_id: long\n",
      "|-- productline: string\n",
      "|-- msrp: long\n",
      "|-- productcode: string\n",
      "|-- dealsize: string\n",
      "|-- customerid: long\n",
      "\n",
      "root\n",
      "|-- customerid: long\n",
      "|-- customername: string\n",
      "|-- email: string\n",
      "|-- city: string\n",
      "|-- country: string\n",
      "|-- territory: string\n",
      "|-- contactfirstname: string\n",
      "|-- contactlastname: string"
     ]
    }
   ],
   "source": [
    "salesDF.printSchema()\n",
    "customerDF.printSchema()"
   ]
  },
  {
   "cell_type": "code",
   "execution_count": 7,
   "id": "12b23407",
   "metadata": {},
   "outputs": [
    {
     "data": {
      "application/vnd.jupyter.widget-view+json": {
       "model_id": "",
       "version_major": 2,
       "version_minor": 0
      },
      "text/plain": [
       "FloatProgress(value=0.0, bar_style='info', description='Progress:', layout=Layout(height='25px', width='50%'),…"
      ]
     },
     "metadata": {},
     "output_type": "display_data"
    },
    {
     "name": "stdout",
     "output_type": "stream",
     "text": [
      "root\n",
      "|-- orderlinenumber: long\n",
      "|-- sales: double\n",
      "|-- territory: string\n",
      "|-- city: string\n",
      "|-- customername: string\n",
      "|-- year_id: long\n",
      "|-- productline: string\n",
      "|-- contactlastname: string\n",
      "|-- country: string\n",
      "|-- .customerid: long\n",
      "|-- qtr_id: long\n",
      "|-- msrp: long\n",
      "|-- quantityordered: long\n",
      "|-- productcode: string\n",
      "|-- status: string\n",
      "|-- email: string\n",
      "|-- contactfirstname: string\n",
      "|-- ordernumber: long\n",
      "|-- orderdate: string\n",
      "|-- customerid: long\n",
      "|-- dealsize: string\n",
      "|-- month_id: long\n",
      "|-- priceeach: double"
     ]
    }
   ],
   "source": [
    "customersalesDF=Join.apply(salesDF, customerDF, 'customerid', 'customerid')\n",
    "customersalesDF.printSchema()"
   ]
  },
  {
   "cell_type": "code",
   "execution_count": 8,
   "id": "94378cd7",
   "metadata": {},
   "outputs": [
    {
     "data": {
      "application/vnd.jupyter.widget-view+json": {
       "model_id": "",
       "version_major": 2,
       "version_minor": 0
      },
      "text/plain": [
       "FloatProgress(value=0.0, bar_style='info', description='Progress:', layout=Layout(height='25px', width='50%'),…"
      ]
     },
     "metadata": {},
     "output_type": "display_data"
    },
    {
     "name": "stdout",
     "output_type": "stream",
     "text": [
      "root\n",
      "|-- orderlinenumber: long\n",
      "|-- sales: double\n",
      "|-- territory: string\n",
      "|-- city: string\n",
      "|-- customername: string\n",
      "|-- year_id: long\n",
      "|-- productline: string\n",
      "|-- contactlastname: string\n",
      "|-- country: string\n",
      "|-- qtr_id: long\n",
      "|-- msrp: long\n",
      "|-- quantityordered: long\n",
      "|-- productcode: string\n",
      "|-- status: string\n",
      "|-- email: string\n",
      "|-- contactfirstname: string\n",
      "|-- ordernumber: long\n",
      "|-- orderdate: string\n",
      "|-- customerid: long\n",
      "|-- dealsize: string\n",
      "|-- month_id: long\n",
      "|-- priceeach: double"
     ]
    }
   ],
   "source": [
    "customersalesDF = customersalesDF.drop_fields(['`.customerid`'])\n",
    "customersalesDF.printSchema()"
   ]
  },
  {
   "cell_type": "code",
   "execution_count": 9,
   "id": "4ceb5565",
   "metadata": {},
   "outputs": [
    {
     "data": {
      "application/vnd.jupyter.widget-view+json": {
       "model_id": "",
       "version_major": 2,
       "version_minor": 0
      },
      "text/plain": [
       "FloatProgress(value=0.0, bar_style='info', description='Progress:', layout=Layout(height='25px', width='50%'),…"
      ]
     },
     "metadata": {},
     "output_type": "display_data"
    },
    {
     "name": "stdout",
     "output_type": "stream",
     "text": [
      "<awsglue.dynamicframe.DynamicFrame object at 0x7f7dc0b44b00>"
     ]
    }
   ],
   "source": [
    "glueContext.write_dynamic_frame.from_options(customersalesDF, connection_type = \"s3\", connection_options = {\"path\": \"s3://john-data-lake/data/customersales\"}, format = \"json\")"
   ]
  },
  {
   "cell_type": "code",
   "execution_count": null,
   "id": "53c1be3d",
   "metadata": {},
   "outputs": [],
   "source": []
  }
 ],
 "metadata": {
  "kernelspec": {
   "display_name": "Python 3 (ipykernel)",
   "language": "python",
   "name": "python3"
  },
  "language_info": {
   "codemirror_mode": {
    "name": "ipython",
    "version": 3
   },
   "file_extension": ".py",
   "mimetype": "text/x-python",
   "name": "python",
   "nbconvert_exporter": "python",
   "pygments_lexer": "ipython3",
   "version": "3.11.7"
  }
 },
 "nbformat": 4,
 "nbformat_minor": 5
}
