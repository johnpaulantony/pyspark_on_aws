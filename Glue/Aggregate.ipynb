{
 "cells": [
  {
   "cell_type": "code",
   "execution_count": 1,
   "id": "efdf3c3b",
   "metadata": {},
   "outputs": [
    {
     "name": "stdout",
     "output_type": "stream",
     "text": [
      "Starting Spark application\n"
     ]
    },
    {
     "data": {
      "text/html": [
       "<table>\n",
       "<tr><th>ID</th><th>YARN Application ID</th><th>Kind</th><th>State</th><th>Spark UI</th><th>Driver log</th><th>User</th><th>Current session?</th></tr><tr><td>12</td><td>application_1632897281066_0013</td><td>pyspark</td><td>idle</td><td><a target=\"_blank\" href=\"http://ip-172-31-29-146.ap-south-1.compute.internal:20888/proxy/application_1632897281066_0013/\">Link</a></td><td><a target=\"_blank\" href=\"http://ip-172-31-23-246.ap-south-1.compute.internal:8042/node/containerlogs/container_1632897281066_0013_01_000001/livy\">Link</a></td><td>None</td><td>✔</td></tr></table>"
      ],
      "text/plain": [
       "<IPython.core.display.HTML object>"
      ]
     },
     "metadata": {},
     "output_type": "display_data"
    },
    {
     "data": {
      "application/vnd.jupyter.widget-view+json": {
       "model_id": "",
       "version_major": 2,
       "version_minor": 0
      },
      "text/plain": [
       "FloatProgress(value=0.0, bar_style='info', description='Progress:', layout=Layout(height='25px', width='50%'),…"
      ]
     },
     "metadata": {},
     "output_type": "display_data"
    },
    {
     "name": "stdout",
     "output_type": "stream",
     "text": [
      "SparkSession available as 'spark'.\n"
     ]
    },
    {
     "data": {
      "application/vnd.jupyter.widget-view+json": {
       "model_id": "",
       "version_major": 2,
       "version_minor": 0
      },
      "text/plain": [
       "FloatProgress(value=0.0, bar_style='info', description='Progress:', layout=Layout(height='25px', width='50%'),…"
      ]
     },
     "metadata": {},
     "output_type": "display_data"
    }
   ],
   "source": [
    "import sys\n",
    "from awsglue.transforms import *\n",
    "from awsglue.utils import getResolvedOptions\n",
    "from pyspark.context import SparkContext\n",
    "from awsglue.context import GlueContext\n",
    "from awsglue.job import Job\n",
    "\n",
    "glueContext = GlueContext(SparkContext.getOrCreate())"
   ]
  },
  {
   "cell_type": "code",
   "execution_count": 2,
   "id": "061eccda",
   "metadata": {},
   "outputs": [
    {
     "data": {
      "application/vnd.jupyter.widget-view+json": {
       "model_id": "",
       "version_major": 2,
       "version_minor": 0
      },
      "text/plain": [
       "FloatProgress(value=0.0, bar_style='info', description='Progress:', layout=Layout(height='25px', width='50%'),…"
      ]
     },
     "metadata": {},
     "output_type": "display_data"
    },
    {
     "name": "stdout",
     "output_type": "stream",
     "text": [
      "+-----------+---------------+---------+---------------+-------+---------------+-------+------+--------+-------+-----------+----+-----------+--------+----------+\n",
      "|ordernumber|quantityordered|priceeach|orderlinenumber|  sales|      orderdate| status|qtr_id|month_id|year_id|productline|msrp|productcode|dealsize|customerid|\n",
      "+-----------+---------------+---------+---------------+-------+---------------+-------+------+--------+-------+-----------+----+-----------+--------+----------+\n",
      "|      10107|             30|     95.7|              2| 2871.0| 2/24/2003 0:00|Shipped|     1|       2|   2003|Motorcycles|  95|   S10_1678|   Small|         1|\n",
      "|      10121|             34|    81.35|              5| 2765.9|  5/7/2003 0:00|Shipped|     2|       5|   2003|Motorcycles|  95|   S10_1678|   Small|         2|\n",
      "|      10134|             41|    94.74|              2|3884.34|  7/1/2003 0:00|Shipped|     3|       7|   2003|Motorcycles|  95|   S10_1678|  Medium|         3|\n",
      "|      10145|             45|    83.26|              6| 3746.7| 8/25/2003 0:00|Shipped|     3|       8|   2003|Motorcycles|  95|   S10_1678|  Medium|         4|\n",
      "|      10159|             49|    100.0|             14|5205.27|10/10/2003 0:00|Shipped|     4|      10|   2003|Motorcycles|  95|   S10_1678|  Medium|         5|\n",
      "|      10168|             36|    96.66|              1|3479.76|10/28/2003 0:00|Shipped|     4|      10|   2003|Motorcycles|  95|   S10_1678|  Medium|         6|\n",
      "|      10180|             29|    86.13|              9|2497.77|11/11/2003 0:00|Shipped|     4|      11|   2003|Motorcycles|  95|   S10_1678|   Small|         7|\n",
      "|      10188|             48|    100.0|              1|5512.32|11/18/2003 0:00|Shipped|     4|      11|   2003|Motorcycles|  95|   S10_1678|  Medium|         8|\n",
      "|      10201|             22|    98.57|              2|2168.54| 12/1/2003 0:00|Shipped|     4|      12|   2003|Motorcycles|  95|   S10_1678|   Small|         9|\n",
      "|      10211|             41|    100.0|             14|4708.44| 1/15/2004 0:00|Shipped|     1|       1|   2004|Motorcycles|  95|   S10_1678|  Medium|        10|\n",
      "|      10223|             37|    100.0|              1|3965.66| 2/20/2004 0:00|Shipped|     1|       2|   2004|Motorcycles|  95|   S10_1678|  Medium|        11|\n",
      "|      10237|             23|    100.0|              7|2333.12|  4/5/2004 0:00|Shipped|     2|       4|   2004|Motorcycles|  95|   S10_1678|   Small|        12|\n",
      "|      10251|             28|    100.0|              2|3188.64| 5/18/2004 0:00|Shipped|     2|       5|   2004|Motorcycles|  95|   S10_1678|  Medium|        13|\n",
      "|      10263|             34|    100.0|              2|3676.76| 6/28/2004 0:00|Shipped|     2|       6|   2004|Motorcycles|  95|   S10_1678|  Medium|        14|\n",
      "|      10275|             45|    92.83|              1|4177.35| 7/23/2004 0:00|Shipped|     3|       7|   2004|Motorcycles|  95|   S10_1678|  Medium|        15|\n",
      "|      10285|             36|    100.0|              6|4099.68| 8/27/2004 0:00|Shipped|     3|       8|   2004|Motorcycles|  95|   S10_1678|  Medium|        16|\n",
      "|      10299|             23|    100.0|              9|2597.39| 9/30/2004 0:00|Shipped|     3|       9|   2004|Motorcycles|  95|   S10_1678|   Small|        17|\n",
      "|      10309|             41|    100.0|              5|4394.38|10/15/2004 0:00|Shipped|     4|      10|   2004|Motorcycles|  95|   S10_1678|  Medium|        18|\n",
      "|      10318|             46|    94.74|              1|4358.04| 11/2/2004 0:00|Shipped|     4|      11|   2004|Motorcycles|  95|   S10_1678|  Medium|        19|\n",
      "|      10329|             42|    100.0|              1|4396.14|11/15/2004 0:00|Shipped|     4|      11|   2004|Motorcycles|  95|   S10_1678|  Medium|        20|\n",
      "+-----------+---------------+---------+---------------+-------+---------------+-------+------+--------+-------+-----------+----+-----------+--------+----------+\n",
      "only showing top 20 rows"
     ]
    }
   ],
   "source": [
    "salesDF = glueContext.create_dynamic_frame.from_catalog(\n",
    "             database=\"johndb\",\n",
    "             table_name=\"sales\")\n",
    "salesDF = salesDF.toDF();\n",
    "salesDF.show()"
   ]
  },
  {
   "cell_type": "code",
   "execution_count": 4,
   "id": "5f772d25",
   "metadata": {},
   "outputs": [
    {
     "data": {
      "application/vnd.jupyter.widget-view+json": {
       "model_id": "",
       "version_major": 2,
       "version_minor": 0
      },
      "text/plain": [
       "FloatProgress(value=0.0, bar_style='info', description='Progress:', layout=Layout(height='25px', width='50%'),…"
      ]
     },
     "metadata": {},
     "output_type": "display_data"
    },
    {
     "name": "stdout",
     "output_type": "stream",
     "text": [
      "+--------------------+-----+------+-----+\n",
      "|productline_dealsize|Large|Medium|Small|\n",
      "+--------------------+-----+------+-----+\n",
      "|         Motorcycles|   19|   156|  156|\n",
      "|              Trains|    1|    26|   50|\n",
      "|        Classic Cars|   97|   530|  340|\n",
      "|              Planes|    9|   129|  168|\n",
      "|    Trucks and Buses|    7|   175|  119|\n",
      "|               Ships|    0|   107|  127|\n",
      "|        Vintage Cars|   24|   261|  322|\n",
      "+--------------------+-----+------+-----+"
     ]
    }
   ],
   "source": [
    "salesDF.crosstab('productline', 'dealsize').show()"
   ]
  },
  {
   "cell_type": "code",
   "execution_count": 3,
   "id": "9cb070e3",
   "metadata": {},
   "outputs": [
    {
     "data": {
      "application/vnd.jupyter.widget-view+json": {
       "model_id": "",
       "version_major": 2,
       "version_minor": 0
      },
      "text/plain": [
       "FloatProgress(value=0.0, bar_style='info', description='Progress:', layout=Layout(height='25px', width='50%'),…"
      ]
     },
     "metadata": {},
     "output_type": "display_data"
    },
    {
     "name": "stdout",
     "output_type": "stream",
     "text": [
      "+-------+------------------+\n",
      "|summary|             sales|\n",
      "+-------+------------------+\n",
      "|  count|              2823|\n",
      "|   mean|  3553.88907190932|\n",
      "| stddev|1841.8651057401842|\n",
      "|    min|            482.13|\n",
      "|    max|           14082.8|\n",
      "+-------+------------------+"
     ]
    }
   ],
   "source": [
    "salesDF.describe('sales').show()"
   ]
  },
  {
   "cell_type": "code",
   "execution_count": 4,
   "id": "fddc5cd3",
   "metadata": {},
   "outputs": [
    {
     "data": {
      "application/vnd.jupyter.widget-view+json": {
       "model_id": "",
       "version_major": 2,
       "version_minor": 0
      },
      "text/plain": [
       "FloatProgress(value=0.0, bar_style='info', description='Progress:', layout=Layout(height='25px', width='50%'),…"
      ]
     },
     "metadata": {},
     "output_type": "display_data"
    },
    {
     "name": "stdout",
     "output_type": "stream",
     "text": [
      "+----------------+-----+\n",
      "|     productline|count|\n",
      "+----------------+-----+\n",
      "|     Motorcycles|  331|\n",
      "|    Vintage Cars|  607|\n",
      "|           Ships|  234|\n",
      "|Trucks and Buses|  301|\n",
      "|    Classic Cars|  967|\n",
      "|          Trains|   77|\n",
      "|          Planes|  306|\n",
      "+----------------+-----+"
     ]
    }
   ],
   "source": [
    "salesDF.groupby('productline').count().show()"
   ]
  },
  {
   "cell_type": "code",
   "execution_count": 7,
   "id": "5024fdb7",
   "metadata": {},
   "outputs": [
    {
     "data": {
      "application/vnd.jupyter.widget-view+json": {
       "model_id": "",
       "version_major": 2,
       "version_minor": 0
      },
      "text/plain": [
       "FloatProgress(value=0.0, bar_style='info', description='Progress:', layout=Layout(height='25px', width='50%'),…"
      ]
     },
     "metadata": {},
     "output_type": "display_data"
    },
    {
     "name": "stdout",
     "output_type": "stream",
     "text": [
      "+----------------+--------------------+\n",
      "|     productline|min(quantityordered)|\n",
      "+----------------+--------------------+\n",
      "|     Motorcycles|                  20|\n",
      "|    Vintage Cars|                   6|\n",
      "|           Ships|                  20|\n",
      "|Trucks and Buses|                  11|\n",
      "|    Classic Cars|                  10|\n",
      "|          Trains|                  20|\n",
      "|          Planes|                  11|\n",
      "+----------------+--------------------+\n",
      "\n",
      "+----------------+--------------------+\n",
      "|     productline|max(quantityordered)|\n",
      "+----------------+--------------------+\n",
      "|     Motorcycles|                  66|\n",
      "|    Vintage Cars|                  76|\n",
      "|           Ships|                  55|\n",
      "|Trucks and Buses|                  70|\n",
      "|    Classic Cars|                  97|\n",
      "|          Trains|                  51|\n",
      "|          Planes|                  85|\n",
      "+----------------+--------------------+\n",
      "\n",
      "+----------------+--------------------+\n",
      "|     productline|avg(quantityordered)|\n",
      "+----------------+--------------------+\n",
      "|     Motorcycles|  35.235649546827794|\n",
      "|    Vintage Cars|   34.71004942339374|\n",
      "|           Ships|   34.73076923076923|\n",
      "|Trucks and Buses|   35.80398671096346|\n",
      "|    Classic Cars|  35.152016546018615|\n",
      "|          Trains|   35.22077922077922|\n",
      "|          Planes|   35.05555555555556|\n",
      "+----------------+--------------------+\n",
      "\n",
      "+----------------+--------------------+\n",
      "|     productline|sum(quantityordered)|\n",
      "+----------------+--------------------+\n",
      "|     Motorcycles|               11663|\n",
      "|    Vintage Cars|               21069|\n",
      "|           Ships|                8127|\n",
      "|Trucks and Buses|               10777|\n",
      "|    Classic Cars|               33992|\n",
      "|          Trains|                2712|\n",
      "|          Planes|               10727|\n",
      "+----------------+--------------------+"
     ]
    }
   ],
   "source": [
    "salesDF.select(\"productline\",\"quantityordered\").groupby('productline').min().show()\n",
    "salesDF.select(\"productline\",\"quantityordered\").groupby('productline').max().show()\n",
    "salesDF.select(\"productline\",\"quantityordered\").groupby('productline').mean().show()\n",
    "salesDF.select(\"productline\",\"quantityordered\").groupby('productline').sum().show()"
   ]
  },
  {
   "cell_type": "code",
   "execution_count": 8,
   "id": "4a3db3b4",
   "metadata": {},
   "outputs": [
    {
     "data": {
      "application/vnd.jupyter.widget-view+json": {
       "model_id": "",
       "version_major": 2,
       "version_minor": 0
      },
      "text/plain": [
       "FloatProgress(value=0.0, bar_style='info', description='Progress:', layout=Layout(height='25px', width='50%'),…"
      ]
     },
     "metadata": {},
     "output_type": "display_data"
    },
    {
     "name": "stdout",
     "output_type": "stream",
     "text": [
      "+----------------+--------------+--------------------+------------------+\n",
      "|     productline|max(priceeach)|avg(quantityordered)|        sum(sales)|\n",
      "+----------------+--------------+--------------------+------------------+\n",
      "|     Motorcycles|         100.0|  35.235649546827794|1166388.3400000003|\n",
      "|    Vintage Cars|         100.0|   34.71004942339374|1903150.8399999992|\n",
      "|           Ships|         100.0|   34.73076923076923|         714437.13|\n",
      "|Trucks and Buses|         100.0|   35.80398671096346|1127789.8399999996|\n",
      "|    Classic Cars|         100.0|  35.152016546018615| 3919615.659999997|\n",
      "|          Trains|         100.0|   35.22077922077922|226243.46999999997|\n",
      "|          Planes|         100.0|   35.05555555555556| 975003.5700000001|\n",
      "+----------------+--------------+--------------------+------------------+"
     ]
    }
   ],
   "source": [
    "salesDF.groupby('productline').agg({'quantityordered': 'mean','sales': 'sum','priceeach' : 'max'}).show()"
   ]
  },
  {
   "cell_type": "code",
   "execution_count": 9,
   "id": "3198d806",
   "metadata": {},
   "outputs": [
    {
     "data": {
      "application/vnd.jupyter.widget-view+json": {
       "model_id": "",
       "version_major": 2,
       "version_minor": 0
      },
      "text/plain": [
       "FloatProgress(value=0.0, bar_style='info', description='Progress:', layout=Layout(height='25px', width='50%'),…"
      ]
     },
     "metadata": {},
     "output_type": "display_data"
    },
    {
     "name": "stdout",
     "output_type": "stream",
     "text": [
      "+-----------+---------------+---------+---------------+------+---------------+----------+------+--------+-------+----------------+----+-----------+--------+----------+\n",
      "|ordernumber|quantityordered|priceeach|orderlinenumber| sales|      orderdate|    status|qtr_id|month_id|year_id|     productline|msrp|productcode|dealsize|customerid|\n",
      "+-----------+---------------+---------+---------------+------+---------------+----------+------+--------+-------+----------------+----+-----------+--------+----------+\n",
      "|      10425|             11|    43.83|              6|482.13| 5/31/2005 0:00|In Process|     2|       5|   2005|Trucks and Buses|  54|   S32_2509|   Small|      2250|\n",
      "|      10407|              6|    90.19|              3|541.14| 4/22/2005 0:00|   On Hold|     2|       4|   2005|    Vintage Cars|  92|   S18_4409|   Small|      1288|\n",
      "|      10408|             15|    36.93|              1|553.95| 4/22/2005 0:00|   Shipped|     2|       4|   2005|    Vintage Cars|  41|   S24_3969|   Small|      2045|\n",
      "|      10280|             20|    28.88|             12| 577.6| 8/17/2004 0:00|   Shipped|     3|       8|   2004|    Vintage Cars|  33|   S24_1937|   Small|      1552|\n",
      "|      10419|             15|    42.67|              7|640.05| 5/17/2005 0:00|   Shipped|     2|       5|   2005|    Classic Cars|  37|   S24_2972|   Small|      1819|\n",
      "|      10264|             20|    32.59|              4| 651.8| 6/30/2004 0:00|   Shipped|     2|       6|   2004|     Motorcycles|  40|   S32_2206|   Small|      2210|\n",
      "|      10420|             15|    43.49|              3|652.35| 5/29/2005 0:00|In Process|     2|       5|   2005|    Vintage Cars|  41|   S24_3969|   Small|      2046|\n",
      "|      10214|             20|    34.19|              3| 683.8| 1/26/2004 0:00|   Shipped|     1|       1|   2004|    Vintage Cars|  33|   S24_1937|   Small|      1549|\n",
      "|      10304|             23|     30.2|             16| 694.6|10/11/2004 0:00|   Shipped|     4|      10|   2004|    Vintage Cars|  33|   S24_1937|   Small|      1554|\n",
      "|      10344|             20|    35.18|              6| 703.6|11/25/2004 0:00|   Shipped|     4|      11|   2004|    Vintage Cars|  33|   S24_1937|   Small|      1558|\n",
      "|      10110|             20|    35.51|              3| 710.2| 3/18/2003 0:00|   Shipped|     1|       3|   2003|    Vintage Cars|  33|   S24_1937|   Small|      1541|\n",
      "|      10135|             20|    35.87|              1| 717.4|  7/2/2003 0:00|   Shipped|     3|       7|   2003|    Classic Cars|  37|   S24_2972|   Small|      1795|\n",
      "|      10114|             24|    30.06|              1|721.44|  4/1/2003 0:00|   Shipped|     2|       4|   2003|    Classic Cars|  35|   S24_2840|   Small|      1718|\n",
      "|      10358|             20|    36.42|             11| 728.4|12/10/2004 0:00|   Shipped|     4|      12|   2004|Trucks and Buses| 122|   S18_2319|   Small|       724|\n",
      "|      10375|             21|    34.91|             12|733.11|  2/3/2005 0:00|   Shipped|     1|       2|   2005|     Motorcycles|  95|   S10_1678|   Small|        23|\n",
      "|      10193|             26|    29.21|             10|759.46|11/21/2003 0:00|   Shipped|     4|      11|   2003|    Vintage Cars|  33|   S24_1937|   Small|      1547|\n",
      "|      10203|             21|     37.0|              2| 777.0| 12/2/2003 0:00|   Shipped|     4|      12|   2003|    Classic Cars|  37|   S24_2972|   Small|      1801|\n",
      "|      10409|              6|    100.0|              2|785.64| 4/23/2005 0:00|   Shipped|     2|       4|   2005|    Vintage Cars| 127|   S18_2325|   Small|       752|\n",
      "|      10281|             20|    40.66|              2| 813.2| 8/19/2004 0:00|   Shipped|     3|       8|   2004|    Classic Cars|  35|   S24_2840|   Small|      1732|\n",
      "|      10156|             20|    41.02|              1| 820.4| 10/8/2003 0:00|   Shipped|     4|      10|   2003|    Vintage Cars|  43|   S50_1341|   Small|      2357|\n",
      "+-----------+---------------+---------+---------------+------+---------------+----------+------+--------+-------+----------------+----+-----------+--------+----------+\n",
      "only showing top 20 rows\n",
      "\n",
      "+-----------+---------------+---------+---------------+-------+---------------+----------+------+--------+-------+------------+----+-----------+--------+----------+\n",
      "|ordernumber|quantityordered|priceeach|orderlinenumber|  sales|      orderdate|    status|qtr_id|month_id|year_id| productline|msrp|productcode|dealsize|customerid|\n",
      "+-----------+---------------+---------+---------------+-------+---------------+----------+------+--------+-------+------------+----+-----------+--------+----------+\n",
      "|      10407|             76|    100.0|              2|14082.8| 4/22/2005 0:00|   On Hold|     2|       4|   2005|Vintage Cars| 170|   S18_1749|   Large|       599|\n",
      "|      10322|             50|    100.0|              6|12536.5| 11/4/2004 0:00|   Shipped|     4|      11|   2004|Vintage Cars| 127|   S18_2325|   Large|       745|\n",
      "|      10424|             50|    100.0|              6|12001.0| 5/31/2005 0:00|In Process|     2|       5|   2005|Classic Cars| 214|   S10_1949|   Large|        54|\n",
      "|      10412|             60|    100.0|              9|11887.8|  5/3/2005 0:00|   Shipped|     2|       5|   2005|Classic Cars| 169|   S18_3232|   Large|      1063|\n",
      "|      10403|             66|    100.0|              9|11886.6|  4/8/2005 0:00|   Shipped|     2|       4|   2005| Motorcycles| 193|   S10_4698|   Large|       105|\n",
      "|      10405|             76|    100.0|              3|11739.7| 4/14/2005 0:00|   Shipped|     2|       4|   2005|Classic Cars| 140|   S24_3856|   Large|      1996|\n",
      "|      10312|             48|    100.0|              3|11623.7|10/21/2004 0:00|   Shipped|     4|      10|   2004|Classic Cars| 214|   S10_1949|   Large|        45|\n",
      "|      10333|             46|    100.0|              2|11336.7|11/18/2004 0:00|   Shipped|     4|      11|   2004|Vintage Cars|  99|   S18_3320|   Large|      1134|\n",
      "|      10127|             46|    100.0|              2|11279.2|  6/3/2003 0:00|   Shipped|     2|       6|   2003|Classic Cars| 207|   S12_1108|   Large|       189|\n",
      "|      10150|             45|    100.0|              8|10993.5| 9/19/2003 0:00|   Shipped|     3|       9|   2003|Classic Cars| 214|   S10_1949|   Large|        31|\n",
      "|      10339|             55|    100.0|             13|10758.0|11/23/2004 0:00|   Shipped|     4|      11|   2004|Vintage Cars|  88|   S24_3151|   Large|      1840|\n",
      "|      10247|             44|    100.0|              2|10606.2|  5/5/2004 0:00|   Shipped|     2|       5|   2004|Classic Cars| 207|   S12_1108|   Large|       199|\n",
      "|      10406|             65|    100.0|              1|10468.9| 4/15/2005 0:00|  Disputed|     2|       4|   2005|Classic Cars| 141|   S18_3685|   Large|      1189|\n",
      "|      10304|             47|    100.0|              6|10172.7|10/11/2004 0:00|   Shipped|     4|      10|   2004|Classic Cars| 214|   S10_1949|   Large|        44|\n",
      "|      10388|             46|    100.0|              2|10066.6|  3/3/2005 0:00|   Shipped|     1|       3|   2005|      Planes|  91|  S700_1691|   Large|      2506|\n",
      "|      10375|             43|    100.0|              2|10039.6|  2/3/2005 0:00|   Shipped|     1|       2|   2005|      Planes|  72|   S24_4278|   Large|      2118|\n",
      "|      10223|             49|    100.0|              3|9774.03| 2/20/2004 0:00|   Shipped|     1|       2|   2004| Motorcycles| 193|   S10_4698|   Large|        91|\n",
      "|      10356|             48|    100.0|              5| 9720.0| 12/9/2004 0:00|   Shipped|     4|      12|   2004|Vintage Cars|  33|   S24_1937|   Large|      1559|\n",
      "|      10400|             64|    100.0|              9|9661.44|  4/1/2005 0:00|   Shipped|     2|       4|   2005|Classic Cars| 136|   S10_4757|   Large|       132|\n",
      "|      10276|             50|    100.0|              3| 9631.0|  8/2/2004 0:00|   Shipped|     3|       8|   2004|Classic Cars| 194|   S12_1099|   Large|       176|\n",
      "+-----------+---------------+---------+---------------+-------+---------------+----------+------+--------+-------+------------+----+-----------+--------+----------+\n",
      "only showing top 20 rows"
     ]
    }
   ],
   "source": [
    "salesDF.orderBy(salesDF.sales).show()\n",
    "salesDF.orderBy(salesDF.sales.desc()).show()"
   ]
  },
  {
   "cell_type": "code",
   "execution_count": null,
   "id": "b4dc0056",
   "metadata": {},
   "outputs": [],
   "source": []
  }
 ],
 "metadata": {
  "kernelspec": {
   "display_name": "Python 3 (ipykernel)",
   "language": "python",
   "name": "python3"
  },
  "language_info": {
   "codemirror_mode": {
    "name": "ipython",
    "version": 3
   },
   "file_extension": ".py",
   "mimetype": "text/x-python",
   "name": "python",
   "nbconvert_exporter": "python",
   "pygments_lexer": "ipython3",
   "version": "3.11.7"
  }
 },
 "nbformat": 4,
 "nbformat_minor": 5
}
