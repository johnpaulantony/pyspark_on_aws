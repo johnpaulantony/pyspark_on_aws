{
 "cells": [
  {
   "cell_type": "code",
   "execution_count": 1,
   "id": "b073e5cb",
   "metadata": {},
   "outputs": [
    {
     "name": "stdout",
     "output_type": "stream",
     "text": [
      "Starting Spark application\n"
     ]
    },
    {
     "data": {
      "text/html": [
       "<table>\n",
       "<tr><th>ID</th><th>YARN Application ID</th><th>Kind</th><th>State</th><th>Spark UI</th><th>Driver log</th><th>User</th><th>Current session?</th></tr><tr><td>11</td><td>application_1632897281066_0012</td><td>pyspark</td><td>idle</td><td><a target=\"_blank\" href=\"http://ip-172-31-29-146.ap-south-1.compute.internal:20888/proxy/application_1632897281066_0012/\">Link</a></td><td><a target=\"_blank\" href=\"http://ip-172-31-23-246.ap-south-1.compute.internal:8042/node/containerlogs/container_1632897281066_0012_01_000001/livy\">Link</a></td><td>None</td><td>✔</td></tr></table>"
      ],
      "text/plain": [
       "<IPython.core.display.HTML object>"
      ]
     },
     "metadata": {},
     "output_type": "display_data"
    },
    {
     "data": {
      "application/vnd.jupyter.widget-view+json": {
       "model_id": "",
       "version_major": 2,
       "version_minor": 0
      },
      "text/plain": [
       "FloatProgress(value=0.0, bar_style='info', description='Progress:', layout=Layout(height='25px', width='50%'),…"
      ]
     },
     "metadata": {},
     "output_type": "display_data"
    },
    {
     "name": "stdout",
     "output_type": "stream",
     "text": [
      "SparkSession available as 'spark'.\n"
     ]
    },
    {
     "data": {
      "application/vnd.jupyter.widget-view+json": {
       "model_id": "",
       "version_major": 2,
       "version_minor": 0
      },
      "text/plain": [
       "FloatProgress(value=0.0, bar_style='info', description='Progress:', layout=Layout(height='25px', width='50%'),…"
      ]
     },
     "metadata": {},
     "output_type": "display_data"
    }
   ],
   "source": [
    "import sys\n",
    "from awsglue.transforms import *\n",
    "from awsglue.utils import getResolvedOptions\n",
    "from pyspark.context import SparkContext\n",
    "from awsglue.context import GlueContext\n",
    "from awsglue.job import Job\n",
    "\n",
    "glueContext = GlueContext(SparkContext.getOrCreate())"
   ]
  },
  {
   "cell_type": "code",
   "execution_count": 2,
   "id": "19fc4bf2",
   "metadata": {},
   "outputs": [
    {
     "data": {
      "application/vnd.jupyter.widget-view+json": {
       "model_id": "",
       "version_major": 2,
       "version_minor": 0
      },
      "text/plain": [
       "FloatProgress(value=0.0, bar_style='info', description='Progress:', layout=Layout(height='25px', width='50%'),…"
      ]
     },
     "metadata": {},
     "output_type": "display_data"
    }
   ],
   "source": [
    "customersDF = glueContext.create_dynamic_frame.from_catalog(\n",
    "             database=\"johndb\",\n",
    "             table_name=\"customers\")"
   ]
  },
  {
   "cell_type": "code",
   "execution_count": 3,
   "id": "0e751edb",
   "metadata": {},
   "outputs": [
    {
     "data": {
      "application/vnd.jupyter.widget-view+json": {
       "model_id": "",
       "version_major": 2,
       "version_minor": 0
      },
      "text/plain": [
       "FloatProgress(value=0.0, bar_style='info', description='Progress:', layout=Layout(height='25px', width='50%'),…"
      ]
     },
     "metadata": {},
     "output_type": "display_data"
    },
    {
     "name": "stdout",
     "output_type": "stream",
     "text": [
      "+----------+--------------------+--------------------+-------------+---------+---------+----------------+---------------+\n",
      "|customerid|        customername|               email|         city|  country|territory|contactfirstname|contactlastname|\n",
      "+----------+--------------------+--------------------+-------------+---------+---------+----------------+---------------+\n",
      "|         1|   Land of Toys Inc.|  gladys.rim@rim.org|          NYC|      USA|       NA|           James|           Butt|\n",
      "|         2|  Reims Collectables|yuki_whobrey@aol.com|        Reims|   France|     EMEA|       Josephine|        Darakjy|\n",
      "|         3|     Lyon Souveniers|fletcher.flosi@ya...|        Paris|   France|     EMEA|             Art|         Venere|\n",
      "|         4|   Toys4GrownUps.com| bette_nicka@cox.net|     Pasadena|      USA|       NA|           Lenna|       Paprocki|\n",
      "|         5|Corporate Gift Id...|     vinouye@aol.com|San Francisco|      USA|       NA|         Donette|         Foller|\n",
      "|         6|Technics Stores Inc.|  gladys.rim@rim.org|   Burlingame|      USA|       NA|          Simona|        Morasca|\n",
      "|         7|Daedalus Designs ...|yuki_whobrey@aol.com|        Lille|   France|     EMEA|          Mitsue|        Tollner|\n",
      "|         8|        Herkku Gifts|fletcher.flosi@ya...|       Bergen|   Norway|     EMEA|           Leota|       Dilliard|\n",
      "|         9|     Mini Wheels Co.| bette_nicka@cox.net|San Francisco|      USA|       NA|            Sage|         Wieser|\n",
      "|        10|    Auto Canal Petit|     vinouye@aol.com|        Paris|   France|     EMEA|            Kris|        Marrier|\n",
      "|        11|Australian Collec...|  gladys.rim@rim.org|    Melbourne|Australia|     APAC|           Minna|         Amigon|\n",
      "|        12|     Vitachrome Inc.|yuki_whobrey@aol.com|          NYC|      USA|       NA|            Abel|        Maclead|\n",
      "|        13|Tekni Collectable...|fletcher.flosi@ya...|       Newark|      USA|       NA|           Kiley|      Caldarera|\n",
      "|        14|     Gift Depot Inc.| bette_nicka@cox.net|  Bridgewater|      USA|       NA|        Graciela|           Ruta|\n",
      "|        15|   La Rochelle Gifts|     vinouye@aol.com|       Nantes|   France|     EMEA|           Cammy|        Albares|\n",
      "|        16|Marta's Replicas Co.|  gladys.rim@rim.org|    Cambridge|      USA|       NA|          Mattie|       Poquette|\n",
      "|        17| Toys of Finland Co.|yuki_whobrey@aol.com|     Helsinki|  Finland|     EMEA|         Meaghan|         Garufi|\n",
      "|        18|  Baane Mini Imports|fletcher.flosi@ya...|      Stavern|   Norway|     EMEA|          Gladys|            Rim|\n",
      "|        19|Diecast Classics ...| bette_nicka@cox.net|    Allentown|      USA|       NA|            Yuki|        Whobrey|\n",
      "|        20|   Land of Toys Inc.|     vinouye@aol.com|          NYC|      USA|       NA|        Fletcher|          Flosi|\n",
      "+----------+--------------------+--------------------+-------------+---------+---------+----------------+---------------+\n",
      "only showing top 20 rows"
     ]
    }
   ],
   "source": [
    "customersDF.toDF().show()"
   ]
  },
  {
   "cell_type": "code",
   "execution_count": 4,
   "id": "cb62369c",
   "metadata": {},
   "outputs": [
    {
     "data": {
      "application/vnd.jupyter.widget-view+json": {
       "model_id": "",
       "version_major": 2,
       "version_minor": 0
      },
      "text/plain": [
       "FloatProgress(value=0.0, bar_style='info', description='Progress:', layout=Layout(height='25px', width='50%'),…"
      ]
     },
     "metadata": {},
     "output_type": "display_data"
    }
   ],
   "source": [
    "def addcolumns(rec):\n",
    "    rec[\"contactfullname\"] = {}\n",
    "    rec[\"contactfullname\"] = rec[\"contactfirstname\"] + ' ' + rec[\"contactlastname\"]\n",
    "    return rec"
   ]
  },
  {
   "cell_type": "code",
   "execution_count": 5,
   "id": "c6ff2844",
   "metadata": {},
   "outputs": [
    {
     "data": {
      "application/vnd.jupyter.widget-view+json": {
       "model_id": "",
       "version_major": 2,
       "version_minor": 0
      },
      "text/plain": [
       "FloatProgress(value=0.0, bar_style='info', description='Progress:', layout=Layout(height='25px', width='50%'),…"
      ]
     },
     "metadata": {},
     "output_type": "display_data"
    },
    {
     "name": "stdout",
     "output_type": "stream",
     "text": [
      "+---------+--------------------+-------------+---------------+-----------------+---------+--------------------+----------------+----------+\n",
      "|territory|        customername|         city|contactlastname|  contactfullname|  country|               email|contactfirstname|customerid|\n",
      "+---------+--------------------+-------------+---------------+-----------------+---------+--------------------+----------------+----------+\n",
      "|       NA|   Land of Toys Inc.|          NYC|           Butt|       James Butt|      USA|  gladys.rim@rim.org|           James|         1|\n",
      "|     EMEA|  Reims Collectables|        Reims|        Darakjy|Josephine Darakjy|   France|yuki_whobrey@aol.com|       Josephine|         2|\n",
      "|     EMEA|     Lyon Souveniers|        Paris|         Venere|       Art Venere|   France|fletcher.flosi@ya...|             Art|         3|\n",
      "|       NA|   Toys4GrownUps.com|     Pasadena|       Paprocki|   Lenna Paprocki|      USA| bette_nicka@cox.net|           Lenna|         4|\n",
      "|       NA|Corporate Gift Id...|San Francisco|         Foller|   Donette Foller|      USA|     vinouye@aol.com|         Donette|         5|\n",
      "|       NA|Technics Stores Inc.|   Burlingame|        Morasca|   Simona Morasca|      USA|  gladys.rim@rim.org|          Simona|         6|\n",
      "|     EMEA|Daedalus Designs ...|        Lille|        Tollner|   Mitsue Tollner|   France|yuki_whobrey@aol.com|          Mitsue|         7|\n",
      "|     EMEA|        Herkku Gifts|       Bergen|       Dilliard|   Leota Dilliard|   Norway|fletcher.flosi@ya...|           Leota|         8|\n",
      "|       NA|     Mini Wheels Co.|San Francisco|         Wieser|      Sage Wieser|      USA| bette_nicka@cox.net|            Sage|         9|\n",
      "|     EMEA|    Auto Canal Petit|        Paris|        Marrier|     Kris Marrier|   France|     vinouye@aol.com|            Kris|        10|\n",
      "|     APAC|Australian Collec...|    Melbourne|         Amigon|     Minna Amigon|Australia|  gladys.rim@rim.org|           Minna|        11|\n",
      "|       NA|     Vitachrome Inc.|          NYC|        Maclead|     Abel Maclead|      USA|yuki_whobrey@aol.com|            Abel|        12|\n",
      "|       NA|Tekni Collectable...|       Newark|      Caldarera|  Kiley Caldarera|      USA|fletcher.flosi@ya...|           Kiley|        13|\n",
      "|       NA|     Gift Depot Inc.|  Bridgewater|           Ruta|    Graciela Ruta|      USA| bette_nicka@cox.net|        Graciela|        14|\n",
      "|     EMEA|   La Rochelle Gifts|       Nantes|        Albares|    Cammy Albares|   France|     vinouye@aol.com|           Cammy|        15|\n",
      "|       NA|Marta's Replicas Co.|    Cambridge|       Poquette|  Mattie Poquette|      USA|  gladys.rim@rim.org|          Mattie|        16|\n",
      "|     EMEA| Toys of Finland Co.|     Helsinki|         Garufi|   Meaghan Garufi|  Finland|yuki_whobrey@aol.com|         Meaghan|        17|\n",
      "|     EMEA|  Baane Mini Imports|      Stavern|            Rim|       Gladys Rim|   Norway|fletcher.flosi@ya...|          Gladys|        18|\n",
      "|       NA|Diecast Classics ...|    Allentown|        Whobrey|     Yuki Whobrey|      USA| bette_nicka@cox.net|            Yuki|        19|\n",
      "|       NA|   Land of Toys Inc.|          NYC|          Flosi|   Fletcher Flosi|      USA|     vinouye@aol.com|        Fletcher|        20|\n",
      "+---------+--------------------+-------------+---------------+-----------------+---------+--------------------+----------------+----------+\n",
      "only showing top 20 rows"
     ]
    }
   ],
   "source": [
    "customersDF =  Map.apply(customersDF, f = addcolumns)\n",
    "customersDF.toDF().show();"
   ]
  },
  {
   "cell_type": "code",
   "execution_count": 6,
   "id": "6aefadfb",
   "metadata": {},
   "outputs": [
    {
     "data": {
      "application/vnd.jupyter.widget-view+json": {
       "model_id": "",
       "version_major": 2,
       "version_minor": 0
      },
      "text/plain": [
       "FloatProgress(value=0.0, bar_style='info', description='Progress:', layout=Layout(height='25px', width='50%'),…"
      ]
     },
     "metadata": {},
     "output_type": "display_data"
    },
    {
     "name": "stdout",
     "output_type": "stream",
     "text": [
      "+---------+--------------------+-------------+-----------------+---------+--------------------+----------+\n",
      "|territory|        customername|         city|  contactfullname|  country|               email|customerid|\n",
      "+---------+--------------------+-------------+-----------------+---------+--------------------+----------+\n",
      "|       NA|   Land of Toys Inc.|          NYC|       James Butt|      USA|  gladys.rim@rim.org|         1|\n",
      "|     EMEA|  Reims Collectables|        Reims|Josephine Darakjy|   France|yuki_whobrey@aol.com|         2|\n",
      "|     EMEA|     Lyon Souveniers|        Paris|       Art Venere|   France|fletcher.flosi@ya...|         3|\n",
      "|       NA|   Toys4GrownUps.com|     Pasadena|   Lenna Paprocki|      USA| bette_nicka@cox.net|         4|\n",
      "|       NA|Corporate Gift Id...|San Francisco|   Donette Foller|      USA|     vinouye@aol.com|         5|\n",
      "|       NA|Technics Stores Inc.|   Burlingame|   Simona Morasca|      USA|  gladys.rim@rim.org|         6|\n",
      "|     EMEA|Daedalus Designs ...|        Lille|   Mitsue Tollner|   France|yuki_whobrey@aol.com|         7|\n",
      "|     EMEA|        Herkku Gifts|       Bergen|   Leota Dilliard|   Norway|fletcher.flosi@ya...|         8|\n",
      "|       NA|     Mini Wheels Co.|San Francisco|      Sage Wieser|      USA| bette_nicka@cox.net|         9|\n",
      "|     EMEA|    Auto Canal Petit|        Paris|     Kris Marrier|   France|     vinouye@aol.com|        10|\n",
      "|     APAC|Australian Collec...|    Melbourne|     Minna Amigon|Australia|  gladys.rim@rim.org|        11|\n",
      "|       NA|     Vitachrome Inc.|          NYC|     Abel Maclead|      USA|yuki_whobrey@aol.com|        12|\n",
      "|       NA|Tekni Collectable...|       Newark|  Kiley Caldarera|      USA|fletcher.flosi@ya...|        13|\n",
      "|       NA|     Gift Depot Inc.|  Bridgewater|    Graciela Ruta|      USA| bette_nicka@cox.net|        14|\n",
      "|     EMEA|   La Rochelle Gifts|       Nantes|    Cammy Albares|   France|     vinouye@aol.com|        15|\n",
      "|       NA|Marta's Replicas Co.|    Cambridge|  Mattie Poquette|      USA|  gladys.rim@rim.org|        16|\n",
      "|     EMEA| Toys of Finland Co.|     Helsinki|   Meaghan Garufi|  Finland|yuki_whobrey@aol.com|        17|\n",
      "|     EMEA|  Baane Mini Imports|      Stavern|       Gladys Rim|   Norway|fletcher.flosi@ya...|        18|\n",
      "|       NA|Diecast Classics ...|    Allentown|     Yuki Whobrey|      USA| bette_nicka@cox.net|        19|\n",
      "|       NA|   Land of Toys Inc.|          NYC|   Fletcher Flosi|      USA|     vinouye@aol.com|        20|\n",
      "+---------+--------------------+-------------+-----------------+---------+--------------------+----------+\n",
      "only showing top 20 rows"
     ]
    }
   ],
   "source": [
    "customersDF = DropFields.apply(customersDF,[\"contactfirstname\",\"contactlastname\"])\n",
    "customersDF.toDF().show()"
   ]
  },
  {
   "cell_type": "code",
   "execution_count": 7,
   "id": "a9d5abf3",
   "metadata": {},
   "outputs": [
    {
     "data": {
      "application/vnd.jupyter.widget-view+json": {
       "model_id": "",
       "version_major": 2,
       "version_minor": 0
      },
      "text/plain": [
       "FloatProgress(value=0.0, bar_style='info', description='Progress:', layout=Layout(height='25px', width='50%'),…"
      ]
     },
     "metadata": {},
     "output_type": "display_data"
    }
   ],
   "source": [
    "def parsedomain(rec):\n",
    "    rec[\"domain\"] = {}\n",
    "    indx = rec[\"email\"].index('@')\n",
    "    rec[\"domain\"] = rec[\"email\"][indx + 1:]\n",
    "    return rec"
   ]
  },
  {
   "cell_type": "code",
   "execution_count": null,
   "id": "212e128e",
   "metadata": {},
   "outputs": [
    {
     "data": {
      "application/vnd.jupyter.widget-view+json": {
       "model_id": "e9041c20ee8141629202d794e6c2fb0a",
       "version_major": 2,
       "version_minor": 0
      },
      "text/plain": [
       "FloatProgress(value=0.0, bar_style='info', description='Progress:', layout=Layout(height='25px', width='50%'),…"
      ]
     },
     "metadata": {},
     "output_type": "display_data"
    }
   ],
   "source": [
    "customersDF =  Map.apply(customersDF, f = parsedomain)\n",
    "customersDF.toDF().show();"
   ]
  },
  {
   "cell_type": "code",
   "execution_count": 4,
   "id": "27f13399",
   "metadata": {},
   "outputs": [
    {
     "data": {
      "application/vnd.jupyter.widget-view+json": {
       "model_id": "",
       "version_major": 2,
       "version_minor": 0
      },
      "text/plain": [
       "FloatProgress(value=0.0, bar_style='info', description='Progress:', layout=Layout(height='25px', width='50%'),…"
      ]
     },
     "metadata": {},
     "output_type": "display_data"
    },
    {
     "name": "stdout",
     "output_type": "stream",
     "text": [
      "+----------+--------------------+--------------------+-------------+---------+----------------+---------------+------+\n",
      "|customerid|        customername|               email|         city|  country|contactfirstname|contactlastname|region|\n",
      "+----------+--------------------+--------------------+-------------+---------+----------------+---------------+------+\n",
      "|         1|   Land of Toys Inc.|  gladys.rim@rim.org|          NYC|      USA|           James|           Butt|    NA|\n",
      "|         2|  Reims Collectables|yuki_whobrey@aol.com|        Reims|   France|       Josephine|        Darakjy|  EMEA|\n",
      "|         3|     Lyon Souveniers|fletcher.flosi@ya...|        Paris|   France|             Art|         Venere|  EMEA|\n",
      "|         4|   Toys4GrownUps.com| bette_nicka@cox.net|     Pasadena|      USA|           Lenna|       Paprocki|    NA|\n",
      "|         5|Corporate Gift Id...|     vinouye@aol.com|San Francisco|      USA|         Donette|         Foller|    NA|\n",
      "|         6|Technics Stores Inc.|  gladys.rim@rim.org|   Burlingame|      USA|          Simona|        Morasca|    NA|\n",
      "|         7|Daedalus Designs ...|yuki_whobrey@aol.com|        Lille|   France|          Mitsue|        Tollner|  EMEA|\n",
      "|         8|        Herkku Gifts|fletcher.flosi@ya...|       Bergen|   Norway|           Leota|       Dilliard|  EMEA|\n",
      "|         9|     Mini Wheels Co.| bette_nicka@cox.net|San Francisco|      USA|            Sage|         Wieser|    NA|\n",
      "|        10|    Auto Canal Petit|     vinouye@aol.com|        Paris|   France|            Kris|        Marrier|  EMEA|\n",
      "|        11|Australian Collec...|  gladys.rim@rim.org|    Melbourne|Australia|           Minna|         Amigon|  APAC|\n",
      "|        12|     Vitachrome Inc.|yuki_whobrey@aol.com|          NYC|      USA|            Abel|        Maclead|    NA|\n",
      "|        13|Tekni Collectable...|fletcher.flosi@ya...|       Newark|      USA|           Kiley|      Caldarera|    NA|\n",
      "|        14|     Gift Depot Inc.| bette_nicka@cox.net|  Bridgewater|      USA|        Graciela|           Ruta|    NA|\n",
      "|        15|   La Rochelle Gifts|     vinouye@aol.com|       Nantes|   France|           Cammy|        Albares|  EMEA|\n",
      "|        16|Marta's Replicas Co.|  gladys.rim@rim.org|    Cambridge|      USA|          Mattie|       Poquette|    NA|\n",
      "|        17| Toys of Finland Co.|yuki_whobrey@aol.com|     Helsinki|  Finland|         Meaghan|         Garufi|  EMEA|\n",
      "|        18|  Baane Mini Imports|fletcher.flosi@ya...|      Stavern|   Norway|          Gladys|            Rim|  EMEA|\n",
      "|        19|Diecast Classics ...| bette_nicka@cox.net|    Allentown|      USA|            Yuki|        Whobrey|    NA|\n",
      "|        20|   Land of Toys Inc.|     vinouye@aol.com|          NYC|      USA|        Fletcher|          Flosi|    NA|\n",
      "+----------+--------------------+--------------------+-------------+---------+----------------+---------------+------+\n",
      "only showing top 20 rows"
     ]
    }
   ],
   "source": [
    "customersDF = customersDF.rename_field(\"territory\",\"region\")\n",
    "customersDF.toDF().show();"
   ]
  },
  {
   "cell_type": "code",
   "execution_count": null,
   "id": "04b2bb9c",
   "metadata": {},
   "outputs": [],
   "source": []
  }
 ],
 "metadata": {
  "kernelspec": {
   "display_name": "Python 3 (ipykernel)",
   "language": "python",
   "name": "python3"
  },
  "language_info": {
   "codemirror_mode": {
    "name": "ipython",
    "version": 3
   },
   "file_extension": ".py",
   "mimetype": "text/x-python",
   "name": "python",
   "nbconvert_exporter": "python",
   "pygments_lexer": "ipython3",
   "version": "3.11.7"
  }
 },
 "nbformat": 4,
 "nbformat_minor": 5
}
